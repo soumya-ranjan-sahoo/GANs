{
  "nbformat": 4,
  "nbformat_minor": 0,
  "metadata": {
    "colab": {
      "name": "cikm_demo",
      "provenance": [],
      "collapsed_sections": [],
      "include_colab_link": true
    },
    "kernelspec": {
      "name": "python3",
      "display_name": "Python 3"
    },
    "accelerator": "GPU"
  },
  "cells": [
    {
      "cell_type": "markdown",
      "metadata": {
        "id": "view-in-github",
        "colab_type": "text"
      },
      "source": [
        "<a href=\"https://colab.research.google.com/github/soumya-ranjan-sahoo/GANs---PyTorch/blob/master/crowdWorkersDemo.ipynb\" target=\"_parent\"><img src=\"https://colab.research.google.com/assets/colab-badge.svg\" alt=\"Open In Colab\"/></a>"
      ]
    },
    {
      "cell_type": "markdown",
      "metadata": {
        "id": "SqJuVvm-89sB"
      },
      "source": [
        "### Mounting your Google Drive\n",
        "We strongly recommend mounting your Google drive, so that the Capreolus cache and results directory persist after the Colab runtime terminates. (This is not required to run Capreolus, however.)\n",
        "\n",
        "You can mount your gdrive in one of two ways:\n",
        "\n",
        "**recommended**: Click the file browser on the left, and then click \"Mount Drive\" in the browser's upper righthand corner. This will ensure the drive is always mounted when you run the notebook.\n",
        "\n",
        "Alternatively, wait for the code in the following cell to manually mount the drive. This will prompt you to handle the OAuth authentication yourself.\n",
        "\n",
        "If you don't want to use gdrive at all, don't run the next cell.\n",
        "\n"
      ]
    },
    {
      "cell_type": "code",
      "metadata": {
        "id": "FseUMosN89ex",
        "outputId": "85f4b219-8f1d-41c7-ec35-33ab73618bfa",
        "colab": {
          "base_uri": "https://localhost:8080/"
        }
      },
      "source": [
        "import os\n",
        "if not os.path.exists(\"/content/drive\"):\n",
        "  from google.colab import drive\n",
        "  drive.mount(\"/content/drive\")\n",
        "\n",
        "print(\"Google drive mounted?\", os.path.exists(\"/content/drive\"))\n",
        "\n",
        "# if your Google drive is mounted, place both the pip cache and Capreolus' data directories on the gdrive\n",
        "if os.path.exists(\"/content/drive\"):\n",
        "  # disabled because pip complains about directory ownership and refuses to cache wheels\n",
        "  #!rm -rf ~/.cache/pip\n",
        "  #!mkdir -p \"/content/drive/My Drive/capreolus/pipcache\" && ln -s \"/content/drive/My Drive/capreolus/pipcache\" ~/.cache/pip && echo \"pip cache directory created on Google drive (under capreolus/)\"\n",
        "\n",
        "  capreolus_homedir = os.path.expanduser(\"~/.capreolus\")\n",
        "  if os.path.exists(capreolus_homedir):\n",
        "    if not os.path.islink(capreolus_homedir):\n",
        "      print(f\"WARNING: {capreolus_homedir} already exists, so we did not store it to the Google drive. If this is not what you expect, remove this directory and re-run.\")\n",
        "  else:\n",
        "    print(\"Please make sure that there's a 'capreolus' directory in your drive root folder - if it doesn't exist, create it\")\n",
        "    !ln -s \"/content/drive/My Drive/capreolus/\" ~/.capreolus && echo \"~/.capreolus linked to Google drive (under capreolus/)\"\n",
        "\n",
        "print(\"Capreolus directories stored on Google drive?\", os.path.islink(capreolus_homedir))"
      ],
      "execution_count": 12,
      "outputs": [
        {
          "output_type": "stream",
          "text": [
            "Mounted at /content/drive\n",
            "Google drive mounted? True\n",
            "Please make sure that there's a 'capreolus' directory in your drive root folder - if it doesn't exist, create it\n",
            "~/.capreolus linked to Google drive (under capreolus/)\n",
            "Capreolus directories stored on Google drive? True\n"
          ],
          "name": "stdout"
        }
      ]
    },
    {
      "cell_type": "code",
      "metadata": {
        "id": "NLbpnppMGMar"
      },
      "source": [
        "!rm -rf ~/.capreolus\n"
      ],
      "execution_count": 3,
      "outputs": []
    },
    {
      "cell_type": "code",
      "metadata": {
        "id": "SNxypdIY5p1X",
        "outputId": "4b980677-1c2c-4b8d-d6ad-a4e4e74bb388",
        "colab": {
          "base_uri": "https://localhost:8080/"
        }
      },
      "source": [
        "pip install capreolus"
      ],
      "execution_count": 17,
      "outputs": [
        {
          "output_type": "stream",
          "text": [
            "Collecting capreolus\n",
            "\u001b[?25l  Downloading https://files.pythonhosted.org/packages/f5/6b/7da30f766b16c103f8593530ad7367091e87627a68d25f0f4ef32fe3d930/capreolus-0.2.3-py3-none-any.whl (10.8MB)\n",
            "\u001b[K     |████████████████████████████████| 10.8MB 2.8MB/s \n",
            "\u001b[?25hRequirement already satisfied: numpy in /usr/local/lib/python3.6/dist-packages (from capreolus) (1.18.5)\n",
            "Requirement already satisfied: Pillow in /usr/local/lib/python3.6/dist-packages (from capreolus) (7.0.0)\n",
            "Collecting mock\n",
            "  Downloading https://files.pythonhosted.org/packages/cd/74/d72daf8dff5b6566db857cfd088907bb0355f5dd2914c4b3ef065c790735/mock-4.0.2-py3-none-any.whl\n",
            "Collecting pytorch-pretrained-bert==0.4\n",
            "\u001b[?25l  Downloading https://files.pythonhosted.org/packages/95/68/84de54aea460eb5b2e90bf47a429aacc1ce97ff052ec40874ea38ae2331d/pytorch_pretrained_bert-0.4.0-py3-none-any.whl (45kB)\n",
            "\u001b[K     |████████████████████████████████| 51kB 7.9MB/s \n",
            "\u001b[?25hCollecting annoy==1.15.2\n",
            "\u001b[?25l  Downloading https://files.pythonhosted.org/packages/cc/b2/37c2e81952bc2ea7db909b5a698079a432197dc722ac68d61d218878499f/annoy-1.15.2.tar.gz (636kB)\n",
            "\u001b[K     |████████████████████████████████| 645kB 56.3MB/s \n",
            "\u001b[?25hCollecting torch==1.4\n",
            "\u001b[?25l  Downloading https://files.pythonhosted.org/packages/24/19/4804aea17cd136f1705a5e98a00618cb8f6ccc375ad8bfa437408e09d058/torch-1.4.0-cp36-cp36m-manylinux1_x86_64.whl (753.4MB)\n",
            "\u001b[K     |████████████████████████████████| 753.4MB 22kB/s \n",
            "\u001b[?25hCollecting pre-commit\n",
            "\u001b[?25l  Downloading https://files.pythonhosted.org/packages/2c/88/966da62ec93566c221bf8bf0c1b7f04e70f002960a98da05d3fd8bc3b2e7/pre_commit-2.7.1-py2.py3-none-any.whl (171kB)\n",
            "\u001b[K     |████████████████████████████████| 174kB 57.0MB/s \n",
            "\u001b[?25hRequirement already satisfied: keras in /usr/local/lib/python3.6/dist-packages (from capreolus) (2.4.3)\n",
            "Requirement already satisfied: matplotlib in /usr/local/lib/python3.6/dist-packages (from capreolus) (3.2.2)\n",
            "Collecting torchvision==0.5\n",
            "\u001b[?25l  Downloading https://files.pythonhosted.org/packages/7e/90/6141bf41f5655c78e24f40f710fdd4f8a8aff6c8b7c6f0328240f649bdbe/torchvision-0.5.0-cp36-cp36m-manylinux1_x86_64.whl (4.0MB)\n",
            "\u001b[K     |████████████████████████████████| 4.0MB 57.8MB/s \n",
            "\u001b[?25hRequirement already satisfied: SQLAlchemy in /usr/local/lib/python3.6/dist-packages (from capreolus) (1.3.19)\n",
            "Requirement already satisfied: scipy in /usr/local/lib/python3.6/dist-packages (from capreolus) (1.4.1)\n",
            "Collecting colorlog==4.0.2\n",
            "  Downloading https://files.pythonhosted.org/packages/68/4d/892728b0c14547224f0ac40884e722a3d00cb54e7a146aea0b3186806c9e/colorlog-4.0.2-py2.py3-none-any.whl\n",
            "Collecting tensorflow-ranking\n",
            "\u001b[?25l  Downloading https://files.pythonhosted.org/packages/3e/d8/9d42660fdf664ba703eb2179bfd069c073e954e13e4c528de074e6df9bf0/tensorflow_ranking-0.3.2-py2.py3-none-any.whl (94kB)\n",
            "\u001b[K     |████████████████████████████████| 102kB 14.6MB/s \n",
            "\u001b[?25hRequirement already satisfied: beautifulsoup4 in /usr/local/lib/python3.6/dist-packages (from capreolus) (4.6.3)\n",
            "Requirement already satisfied: h5py in /usr/local/lib/python3.6/dist-packages (from capreolus) (2.10.0)\n",
            "Collecting xxhash==1.3.0\n",
            "\u001b[?25l  Downloading https://files.pythonhosted.org/packages/df/db/abd8ecd1753b60e5b527365676482bda272d71eaab0ad732a8be5f11d2d8/xxhash-1.3.0-cp36-cp36m-manylinux1_x86_64.whl (46kB)\n",
            "\u001b[K     |████████████████████████████████| 51kB 7.8MB/s \n",
            "\u001b[?25hRequirement already satisfied: spacy in /usr/local/lib/python3.6/dist-packages (from capreolus) (2.2.4)\n",
            "Collecting pyjnius==1.2.1\n",
            "\u001b[?25l  Downloading https://files.pythonhosted.org/packages/e8/4f/e3d9f4bb53f7f1854f81a279c274c4ad8537e4d71117258515158403bc10/pyjnius-1.2.1-cp36-cp36m-manylinux2010_x86_64.whl (1.1MB)\n",
            "\u001b[K     |████████████████████████████████| 1.1MB 50.3MB/s \n",
            "\u001b[?25hRequirement already satisfied: oauth2client in /usr/local/lib/python3.6/dist-packages (from capreolus) (4.1.3)\n",
            "Collecting pyserini==0.9.3.0\n",
            "\u001b[?25l  Downloading https://files.pythonhosted.org/packages/b5/6b/3da0e1f2b413650a977edfe649342a78b818fa5cafcc7ece04c8079be72a/pyserini-0.9.3.0-py3-none-any.whl (57.9MB)\n",
            "\u001b[K     |████████████████████████████████| 57.9MB 49kB/s \n",
            "\u001b[?25hCollecting nltk==3.4.5\n",
            "\u001b[?25l  Downloading https://files.pythonhosted.org/packages/f6/1d/d925cfb4f324ede997f6d47bea4d9babba51b49e87a767c170b77005889d/nltk-3.4.5.zip (1.5MB)\n",
            "\u001b[K     |████████████████████████████████| 1.5MB 56.8MB/s \n",
            "\u001b[?25hRequirement already satisfied: pandas in /usr/local/lib/python3.6/dist-packages (from capreolus) (1.1.2)\n",
            "Requirement already satisfied: cython in /usr/local/lib/python3.6/dist-packages (from capreolus) (0.29.21)\n",
            "Requirement already satisfied: pytest in /usr/local/lib/python3.6/dist-packages (from capreolus) (3.6.4)\n",
            "Collecting profane>=0.1.6\n",
            "  Downloading https://files.pythonhosted.org/packages/22/22/c4f9a2f09126942d03f6cc75d829a88ad7cc0204e2bb0af83c16683485aa/profane-0.2.1-py3-none-any.whl\n",
            "Collecting fasteners==0.15\n",
            "  Downloading https://files.pythonhosted.org/packages/18/bd/55eb2d6397b9c0e263af9d091ebdb756b15756029b3cededf6461481bc63/fasteners-0.15-py2.py3-none-any.whl\n",
            "Collecting pymagnitude==0.1.120\n",
            "\u001b[?25l  Downloading https://files.pythonhosted.org/packages/0a/a3/b9a34d22ed8c0ed59b00ff55092129641cdfa09d82f9abdc5088051a5b0c/pymagnitude-0.1.120.tar.gz (5.4MB)\n",
            "\u001b[K     |████████████████████████████████| 5.4MB 47.1MB/s \n",
            "\u001b[?25hRequirement already satisfied: google-api-python-client in /usr/local/lib/python3.6/dist-packages (from capreolus) (1.7.12)\n",
            "Collecting transformers\n",
            "\u001b[?25l  Downloading https://files.pythonhosted.org/packages/19/22/aff234f4a841f8999e68a7a94bdd4b60b4cebcfeca5d67d61cd08c9179de/transformers-3.3.1-py3-none-any.whl (1.1MB)\n",
            "\u001b[K     |████████████████████████████████| 1.1MB 51.6MB/s \n",
            "\u001b[?25hCollecting scispacy\n",
            "  Downloading https://files.pythonhosted.org/packages/93/0d/db88d1c2ad059c0b6854ca00519038b36ee1106e97899a3eb66bd25aeaaa/scispacy-0.2.5-py3-none-any.whl\n",
            "Collecting lz4==2.1.10\n",
            "\u001b[?25l  Downloading https://files.pythonhosted.org/packages/0a/c6/96bbb3525a63ebc53ea700cc7d37ab9045542d33b4d262d0f0408ad9bbf2/lz4-2.1.10-cp36-cp36m-manylinux1_x86_64.whl (385kB)\n",
            "\u001b[K     |████████████████████████████████| 389kB 34.9MB/s \n",
            "\u001b[?25hCollecting sqlalchemy-utils\n",
            "\u001b[?25l  Downloading https://files.pythonhosted.org/packages/14/68/e5301c4c960c79a32333b8805e52cb69d3d237aa869a773b4157ccb3eb26/SQLAlchemy-Utils-0.36.8.tar.gz (138kB)\n",
            "\u001b[K     |████████████████████████████████| 143kB 54.0MB/s \n",
            "\u001b[?25hCollecting pytest-mock==1.10.4\n",
            "  Downloading https://files.pythonhosted.org/packages/30/43/8deecb4c123bbc16d25666f1a6d241109c97aeb2e50806b952661c8e4b95/pytest_mock-1.10.4-py2.py3-none-any.whl\n",
            "Collecting tensorflow==2.2\n",
            "\u001b[?25l  Downloading https://files.pythonhosted.org/packages/3d/be/679ce5254a8c8d07470efb4a4c00345fae91f766e64f1c2aece8796d7218/tensorflow-2.2.0-cp36-cp36m-manylinux2010_x86_64.whl (516.2MB)\n",
            "\u001b[K     |████████████████████████████████| 516.2MB 20kB/s \n",
            "\u001b[?25hCollecting psycopg2-binary\n",
            "\u001b[?25l  Downloading https://files.pythonhosted.org/packages/f2/1b/720b36697158113ca1b2221a8e96a470088ccf3770d182214689d1a96a07/psycopg2_binary-2.8.6-cp36-cp36m-manylinux1_x86_64.whl (3.0MB)\n",
            "\u001b[K     |████████████████████████████████| 3.0MB 59.1MB/s \n",
            "\u001b[?25hRequirement already satisfied: lxml in /usr/local/lib/python3.6/dist-packages (from capreolus) (4.2.6)\n",
            "Collecting pytorch-transformers==1.1.0\n",
            "\u001b[?25l  Downloading https://files.pythonhosted.org/packages/50/89/ad0d6bb932d0a51793eaabcf1617a36ff530dc9ab9e38f765a35dc293306/pytorch_transformers-1.1.0-py3-none-any.whl (158kB)\n",
            "\u001b[K     |████████████████████████████████| 163kB 41.9MB/s \n",
            "\u001b[?25hCollecting pytrec-eval-git\n",
            "  Downloading https://files.pythonhosted.org/packages/9a/02/6b612c8da2575afaf93c624c74f17bb57aee871a0f7292611c3a1cf46530/pytrec_eval_git-0.5.tar.gz\n",
            "Collecting boto3\n",
            "\u001b[?25l  Downloading https://files.pythonhosted.org/packages/f6/bf/3e664055507cfaebca31487c43d80ab813d039e36a63657a5fba04aea798/boto3-1.15.14-py2.py3-none-any.whl (129kB)\n",
            "\u001b[K     |████████████████████████████████| 133kB 52.8MB/s \n",
            "\u001b[?25hRequirement already satisfied: tqdm in /usr/local/lib/python3.6/dist-packages (from pytorch-pretrained-bert==0.4->capreolus) (4.41.1)\n",
            "Requirement already satisfied: requests in /usr/local/lib/python3.6/dist-packages (from pytorch-pretrained-bert==0.4->capreolus) (2.23.0)\n",
            "Collecting cfgv>=2.0.0\n",
            "  Downloading https://files.pythonhosted.org/packages/45/cd/3878c9248e59e5e2ebd0dc741ab984b18d86e7283ae9b127b05fc287d239/cfgv-3.2.0-py2.py3-none-any.whl\n",
            "Collecting nodeenv>=0.11.1\n",
            "  Downloading https://files.pythonhosted.org/packages/ae/d0/efdf54539948315cc76e5a66b709212963101d002822c3b54369dbf9b5e0/nodeenv-1.5.0-py2.py3-none-any.whl\n",
            "Collecting importlib-resources; python_version < \"3.7\"\n",
            "  Downloading https://files.pythonhosted.org/packages/ba/03/0f9595c0c2ef12590877f3c47e5f579759ce5caf817f8256d5dcbd8a1177/importlib_resources-3.0.0-py2.py3-none-any.whl\n",
            "Requirement already satisfied: importlib-metadata; python_version < \"3.8\" in /usr/local/lib/python3.6/dist-packages (from pre-commit->capreolus) (2.0.0)\n",
            "Collecting virtualenv>=20.0.8\n",
            "\u001b[?25l  Downloading https://files.pythonhosted.org/packages/be/98/8c548c1b11391695c9de2660a289bedfb7c2784651e9f93449159ca8bf81/virtualenv-20.0.33-py2.py3-none-any.whl (4.9MB)\n",
            "\u001b[K     |████████████████████████████████| 4.9MB 49.2MB/s \n",
            "\u001b[?25hCollecting identify>=1.0.0\n",
            "\u001b[?25l  Downloading https://files.pythonhosted.org/packages/81/b7/9ce214998c815a51b6d5f772e8c8d17744000a0d42372410abe26fbb3a00/identify-1.5.5-py2.py3-none-any.whl (97kB)\n",
            "\u001b[K     |████████████████████████████████| 102kB 12.3MB/s \n",
            "\u001b[?25hRequirement already satisfied: toml in /usr/local/lib/python3.6/dist-packages (from pre-commit->capreolus) (0.10.1)\n",
            "Collecting pyyaml>=5.1\n",
            "\u001b[?25l  Downloading https://files.pythonhosted.org/packages/64/c2/b80047c7ac2478f9501676c988a5411ed5572f35d1beff9cae07d321512c/PyYAML-5.3.1.tar.gz (269kB)\n",
            "\u001b[K     |████████████████████████████████| 276kB 61.5MB/s \n",
            "\u001b[?25hRequirement already satisfied: python-dateutil>=2.1 in /usr/local/lib/python3.6/dist-packages (from matplotlib->capreolus) (2.8.1)\n",
            "Requirement already satisfied: cycler>=0.10 in /usr/local/lib/python3.6/dist-packages (from matplotlib->capreolus) (0.10.0)\n",
            "Requirement already satisfied: kiwisolver>=1.0.1 in /usr/local/lib/python3.6/dist-packages (from matplotlib->capreolus) (1.2.0)\n",
            "Requirement already satisfied: pyparsing!=2.0.4,!=2.1.2,!=2.1.6,>=2.0.1 in /usr/local/lib/python3.6/dist-packages (from matplotlib->capreolus) (2.4.7)\n",
            "Requirement already satisfied: six in /usr/local/lib/python3.6/dist-packages (from torchvision==0.5->capreolus) (1.15.0)\n",
            "Collecting tf-models-official>=2.3.0\n",
            "\u001b[?25l  Downloading https://files.pythonhosted.org/packages/5b/33/91e5e90e3e96292717245d3fe87eb3b35b07c8a2113f2da7f482040facdb/tf_models_official-2.3.0-py2.py3-none-any.whl (840kB)\n",
            "\u001b[K     |████████████████████████████████| 849kB 43.0MB/s \n",
            "\u001b[?25hCollecting tensorflow-serving-api<3.0.0,>=2.0.0\n",
            "  Downloading https://files.pythonhosted.org/packages/72/0d/0f0822b418fd51795a4768f35bb17619af51312ca9f5762c80bea34bd7ae/tensorflow_serving_api-2.3.0-py2.py3-none-any.whl\n",
            "Requirement already satisfied: absl-py>=0.1.6 in /usr/local/lib/python3.6/dist-packages (from tensorflow-ranking->capreolus) (0.10.0)\n",
            "Requirement already satisfied: murmurhash<1.1.0,>=0.28.0 in /usr/local/lib/python3.6/dist-packages (from spacy->capreolus) (1.0.2)\n",
            "Requirement already satisfied: srsly<1.1.0,>=1.0.2 in /usr/local/lib/python3.6/dist-packages (from spacy->capreolus) (1.0.2)\n",
            "Requirement already satisfied: plac<1.2.0,>=0.9.6 in /usr/local/lib/python3.6/dist-packages (from spacy->capreolus) (1.1.3)\n",
            "Requirement already satisfied: setuptools in /usr/local/lib/python3.6/dist-packages (from spacy->capreolus) (50.3.0)\n",
            "Requirement already satisfied: preshed<3.1.0,>=3.0.2 in /usr/local/lib/python3.6/dist-packages (from spacy->capreolus) (3.0.2)\n",
            "Requirement already satisfied: cymem<2.1.0,>=2.0.2 in /usr/local/lib/python3.6/dist-packages (from spacy->capreolus) (2.0.3)\n",
            "Requirement already satisfied: catalogue<1.1.0,>=0.0.7 in /usr/local/lib/python3.6/dist-packages (from spacy->capreolus) (1.0.0)\n",
            "Requirement already satisfied: thinc==7.4.0 in /usr/local/lib/python3.6/dist-packages (from spacy->capreolus) (7.4.0)\n",
            "Requirement already satisfied: wasabi<1.1.0,>=0.4.0 in /usr/local/lib/python3.6/dist-packages (from spacy->capreolus) (0.8.0)\n",
            "Requirement already satisfied: blis<0.5.0,>=0.4.0 in /usr/local/lib/python3.6/dist-packages (from spacy->capreolus) (0.4.1)\n",
            "Requirement already satisfied: pyasn1>=0.1.7 in /usr/local/lib/python3.6/dist-packages (from oauth2client->capreolus) (0.4.8)\n",
            "Requirement already satisfied: httplib2>=0.9.1 in /usr/local/lib/python3.6/dist-packages (from oauth2client->capreolus) (0.17.4)\n",
            "Requirement already satisfied: pyasn1-modules>=0.0.5 in /usr/local/lib/python3.6/dist-packages (from oauth2client->capreolus) (0.2.8)\n",
            "Requirement already satisfied: rsa>=3.1.4 in /usr/local/lib/python3.6/dist-packages (from oauth2client->capreolus) (4.6)\n",
            "Requirement already satisfied: scikit-learn in /usr/local/lib/python3.6/dist-packages (from pyserini==0.9.3.0->capreolus) (0.22.2.post1)\n",
            "Requirement already satisfied: pytz>=2017.2 in /usr/local/lib/python3.6/dist-packages (from pandas->capreolus) (2018.9)\n",
            "Requirement already satisfied: more-itertools>=4.0.0 in /usr/local/lib/python3.6/dist-packages (from pytest->capreolus) (8.5.0)\n",
            "Requirement already satisfied: attrs>=17.4.0 in /usr/local/lib/python3.6/dist-packages (from pytest->capreolus) (20.2.0)\n",
            "Requirement already satisfied: pluggy<0.8,>=0.5 in /usr/local/lib/python3.6/dist-packages (from pytest->capreolus) (0.7.1)\n",
            "Requirement already satisfied: py>=1.5.0 in /usr/local/lib/python3.6/dist-packages (from pytest->capreolus) (1.9.0)\n",
            "Requirement already satisfied: atomicwrites>=1.0 in /usr/local/lib/python3.6/dist-packages (from pytest->capreolus) (1.4.0)\n",
            "Requirement already satisfied: docopt in /usr/local/lib/python3.6/dist-packages (from profane>=0.1.6->capreolus) (0.6.2)\n",
            "Collecting colorama\n",
            "  Downloading https://files.pythonhosted.org/packages/c9/dc/45cdef1b4d119eb96316b3117e6d5708a08029992b2fee2c143c7a0a5cc5/colorama-0.4.3-py2.py3-none-any.whl\n",
            "Requirement already satisfied: monotonic>=0.1 in /usr/local/lib/python3.6/dist-packages (from fasteners==0.15->capreolus) (1.5)\n",
            "Requirement already satisfied: uritemplate<4dev,>=3.0.0 in /usr/local/lib/python3.6/dist-packages (from google-api-python-client->capreolus) (3.0.1)\n",
            "Requirement already satisfied: google-auth-httplib2>=0.0.3 in /usr/local/lib/python3.6/dist-packages (from google-api-python-client->capreolus) (0.0.4)\n",
            "Requirement already satisfied: google-auth>=1.4.1 in /usr/local/lib/python3.6/dist-packages (from google-api-python-client->capreolus) (1.17.2)\n",
            "Collecting sacremoses\n",
            "\u001b[?25l  Downloading https://files.pythonhosted.org/packages/7d/34/09d19aff26edcc8eb2a01bed8e98f13a1537005d31e95233fd48216eed10/sacremoses-0.0.43.tar.gz (883kB)\n",
            "\u001b[K     |████████████████████████████████| 890kB 51.3MB/s \n",
            "\u001b[?25hCollecting sentencepiece!=0.1.92\n",
            "\u001b[?25l  Downloading https://files.pythonhosted.org/packages/d4/a4/d0a884c4300004a78cca907a6ff9a5e9fe4f090f5d95ab341c53d28cbc58/sentencepiece-0.1.91-cp36-cp36m-manylinux1_x86_64.whl (1.1MB)\n",
            "\u001b[K     |████████████████████████████████| 1.1MB 47.8MB/s \n",
            "\u001b[?25hCollecting tokenizers==0.8.1.rc2\n",
            "\u001b[?25l  Downloading https://files.pythonhosted.org/packages/80/83/8b9fccb9e48eeb575ee19179e2bdde0ee9a1904f97de5f02d19016b8804f/tokenizers-0.8.1rc2-cp36-cp36m-manylinux1_x86_64.whl (3.0MB)\n",
            "\u001b[K     |████████████████████████████████| 3.0MB 48.2MB/s \n",
            "\u001b[?25hRequirement already satisfied: dataclasses; python_version < \"3.7\" in /usr/local/lib/python3.6/dist-packages (from transformers->capreolus) (0.7)\n",
            "Requirement already satisfied: filelock in /usr/local/lib/python3.6/dist-packages (from transformers->capreolus) (3.0.12)\n",
            "Requirement already satisfied: regex!=2019.12.17 in /usr/local/lib/python3.6/dist-packages (from transformers->capreolus) (2019.12.20)\n",
            "Requirement already satisfied: packaging in /usr/local/lib/python3.6/dist-packages (from transformers->capreolus) (20.4)\n",
            "Collecting pysbd\n",
            "\u001b[?25l  Downloading https://files.pythonhosted.org/packages/3e/3e/4751bdca782a54ad9763b9ecc68f9805589e2d083092b1dadda9a4ece28f/pysbd-0.3.2-py3-none-any.whl (67kB)\n",
            "\u001b[K     |████████████████████████████████| 71kB 10.2MB/s \n",
            "\u001b[?25hCollecting nmslib>=1.7.3.6\n",
            "\u001b[?25l  Downloading https://files.pythonhosted.org/packages/d5/fd/7d7428d29f12be5d1cc6d586d425b795cc9c596ae669593fd4f388602010/nmslib-2.0.6-cp36-cp36m-manylinux2010_x86_64.whl (12.9MB)\n",
            "\u001b[K     |████████████████████████████████| 13.0MB 238kB/s \n",
            "\u001b[?25hRequirement already satisfied: joblib in /usr/local/lib/python3.6/dist-packages (from scispacy->capreolus) (0.16.0)\n",
            "Requirement already satisfied: gast==0.3.3 in /usr/local/lib/python3.6/dist-packages (from tensorflow==2.2->capreolus) (0.3.3)\n",
            "Requirement already satisfied: protobuf>=3.8.0 in /usr/local/lib/python3.6/dist-packages (from tensorflow==2.2->capreolus) (3.12.4)\n",
            "Requirement already satisfied: keras-preprocessing>=1.1.0 in /usr/local/lib/python3.6/dist-packages (from tensorflow==2.2->capreolus) (1.1.2)\n",
            "Requirement already satisfied: termcolor>=1.1.0 in /usr/local/lib/python3.6/dist-packages (from tensorflow==2.2->capreolus) (1.1.0)\n",
            "Requirement already satisfied: astunparse==1.6.3 in /usr/local/lib/python3.6/dist-packages (from tensorflow==2.2->capreolus) (1.6.3)\n",
            "Requirement already satisfied: opt-einsum>=2.3.2 in /usr/local/lib/python3.6/dist-packages (from tensorflow==2.2->capreolus) (3.3.0)\n",
            "Collecting tensorboard<2.3.0,>=2.2.0\n",
            "\u001b[?25l  Downloading https://files.pythonhosted.org/packages/1d/74/0a6fcb206dcc72a6da9a62dd81784bfdbff5fedb099982861dc2219014fb/tensorboard-2.2.2-py3-none-any.whl (3.0MB)\n",
            "\u001b[K     |████████████████████████████████| 3.0MB 43.7MB/s \n",
            "\u001b[?25hRequirement already satisfied: grpcio>=1.8.6 in /usr/local/lib/python3.6/dist-packages (from tensorflow==2.2->capreolus) (1.32.0)\n",
            "Requirement already satisfied: wheel>=0.26; python_version >= \"3\" in /usr/local/lib/python3.6/dist-packages (from tensorflow==2.2->capreolus) (0.35.1)\n",
            "Collecting tensorflow-estimator<2.3.0,>=2.2.0\n",
            "\u001b[?25l  Downloading https://files.pythonhosted.org/packages/a4/f5/926ae53d6a226ec0fda5208e0e581cffed895ccc89e36ba76a8e60895b78/tensorflow_estimator-2.2.0-py2.py3-none-any.whl (454kB)\n",
            "\u001b[K     |████████████████████████████████| 460kB 53.5MB/s \n",
            "\u001b[?25hRequirement already satisfied: wrapt>=1.11.1 in /usr/local/lib/python3.6/dist-packages (from tensorflow==2.2->capreolus) (1.12.1)\n",
            "Requirement already satisfied: google-pasta>=0.1.8 in /usr/local/lib/python3.6/dist-packages (from tensorflow==2.2->capreolus) (0.2.0)\n",
            "Collecting botocore<1.19.0,>=1.18.14\n",
            "\u001b[?25l  Downloading https://files.pythonhosted.org/packages/90/d8/c3f7e9a5bac138e7f79869fea9b6c581ec592ed2b5c44ad31481a834992c/botocore-1.18.14-py2.py3-none-any.whl (6.7MB)\n",
            "\u001b[K     |████████████████████████████████| 6.7MB 48.6MB/s \n",
            "\u001b[?25hCollecting s3transfer<0.4.0,>=0.3.0\n",
            "\u001b[?25l  Downloading https://files.pythonhosted.org/packages/69/79/e6afb3d8b0b4e96cefbdc690f741d7dd24547ff1f94240c997a26fa908d3/s3transfer-0.3.3-py2.py3-none-any.whl (69kB)\n",
            "\u001b[K     |████████████████████████████████| 71kB 9.2MB/s \n",
            "\u001b[?25hCollecting jmespath<1.0.0,>=0.7.1\n",
            "  Downloading https://files.pythonhosted.org/packages/07/cb/5f001272b6faeb23c1c9e0acc04d48eaaf5c862c17709d20e3469c6e0139/jmespath-0.10.0-py2.py3-none-any.whl\n",
            "Requirement already satisfied: idna<3,>=2.5 in /usr/local/lib/python3.6/dist-packages (from requests->pytorch-pretrained-bert==0.4->capreolus) (2.10)\n",
            "Requirement already satisfied: certifi>=2017.4.17 in /usr/local/lib/python3.6/dist-packages (from requests->pytorch-pretrained-bert==0.4->capreolus) (2020.6.20)\n",
            "Requirement already satisfied: urllib3!=1.25.0,!=1.25.1,<1.26,>=1.21.1 in /usr/local/lib/python3.6/dist-packages (from requests->pytorch-pretrained-bert==0.4->capreolus) (1.24.3)\n",
            "Requirement already satisfied: chardet<4,>=3.0.2 in /usr/local/lib/python3.6/dist-packages (from requests->pytorch-pretrained-bert==0.4->capreolus) (3.0.4)\n",
            "Requirement already satisfied: zipp>=0.4; python_version < \"3.8\" in /usr/local/lib/python3.6/dist-packages (from importlib-resources; python_version < \"3.7\"->pre-commit->capreolus) (3.2.0)\n",
            "Collecting distlib<1,>=0.3.1\n",
            "\u001b[?25l  Downloading https://files.pythonhosted.org/packages/f5/0a/490fa011d699bb5a5f3a0cf57de82237f52a6db9d40f33c53b2736c9a1f9/distlib-0.3.1-py2.py3-none-any.whl (335kB)\n",
            "\u001b[K     |████████████████████████████████| 337kB 59.6MB/s \n",
            "\u001b[?25hCollecting appdirs<2,>=1.4.3\n",
            "  Downloading https://files.pythonhosted.org/packages/3b/00/2344469e2084fb287c2e0b57b72910309874c3245463acd6cf5e3db69324/appdirs-1.4.4-py2.py3-none-any.whl\n",
            "Collecting tensorflow-model-optimization>=0.2.1\n",
            "\u001b[?25l  Downloading https://files.pythonhosted.org/packages/55/38/4fd48ea1bfcb0b6e36d949025200426fe9c3a8bfae029f0973d85518fa5a/tensorflow_model_optimization-0.5.0-py2.py3-none-any.whl (172kB)\n",
            "\u001b[K     |████████████████████████████████| 174kB 59.0MB/s \n",
            "\u001b[?25hRequirement already satisfied: gin-config in /usr/local/lib/python3.6/dist-packages (from tf-models-official>=2.3.0->tensorflow-ranking->capreolus) (0.3.0)\n",
            "Requirement already satisfied: kaggle>=1.3.9 in /usr/local/lib/python3.6/dist-packages (from tf-models-official>=2.3.0->tensorflow-ranking->capreolus) (1.5.8)\n",
            "Collecting opencv-python-headless\n",
            "\u001b[?25l  Downloading https://files.pythonhosted.org/packages/e2/e2/6670da2b12544858657058a5db2f088a18c56d0144bef8d178ad4734b7a3/opencv_python_headless-4.4.0.44-cp36-cp36m-manylinux2014_x86_64.whl (36.7MB)\n",
            "\u001b[K     |████████████████████████████████| 36.7MB 82kB/s \n",
            "\u001b[?25hRequirement already satisfied: psutil>=5.4.3 in /usr/local/lib/python3.6/dist-packages (from tf-models-official>=2.3.0->tensorflow-ranking->capreolus) (5.4.8)\n",
            "Requirement already satisfied: tensorflow-hub>=0.6.0 in /usr/local/lib/python3.6/dist-packages (from tf-models-official>=2.3.0->tensorflow-ranking->capreolus) (0.9.0)\n",
            "Requirement already satisfied: tensorflow-addons in /usr/local/lib/python3.6/dist-packages (from tf-models-official>=2.3.0->tensorflow-ranking->capreolus) (0.8.3)\n",
            "Collecting tf-slim>=1.1.0\n",
            "\u001b[?25l  Downloading https://files.pythonhosted.org/packages/02/97/b0f4a64df018ca018cc035d44f2ef08f91e2e8aa67271f6f19633a015ff7/tf_slim-1.1.0-py2.py3-none-any.whl (352kB)\n",
            "\u001b[K     |████████████████████████████████| 358kB 57.1MB/s \n",
            "\u001b[?25hRequirement already satisfied: google-cloud-bigquery>=0.31.0 in /usr/local/lib/python3.6/dist-packages (from tf-models-official>=2.3.0->tensorflow-ranking->capreolus) (1.21.0)\n",
            "Requirement already satisfied: tensorflow-datasets in /usr/local/lib/python3.6/dist-packages (from tf-models-official>=2.3.0->tensorflow-ranking->capreolus) (2.1.0)\n",
            "Collecting py-cpuinfo>=3.3.0\n",
            "\u001b[?25l  Downloading https://files.pythonhosted.org/packages/f6/f5/8e6e85ce2e9f6e05040cf0d4e26f43a4718bcc4bce988b433276d4b1a5c1/py-cpuinfo-7.0.0.tar.gz (95kB)\n",
            "\u001b[K     |████████████████████████████████| 102kB 13.0MB/s \n",
            "\u001b[?25hRequirement already satisfied: cachetools<5.0,>=2.0.0 in /usr/local/lib/python3.6/dist-packages (from google-auth>=1.4.1->google-api-python-client->capreolus) (4.1.1)\n",
            "Requirement already satisfied: click in /usr/local/lib/python3.6/dist-packages (from sacremoses->transformers->capreolus) (7.1.2)\n",
            "Collecting pybind11>=2.2.3\n",
            "\u001b[?25l  Downloading https://files.pythonhosted.org/packages/89/e3/d576f6f02bc75bacbc3d42494e8f1d063c95617d86648dba243c2cb3963e/pybind11-2.5.0-py2.py3-none-any.whl (296kB)\n",
            "\u001b[K     |████████████████████████████████| 296kB 56.7MB/s \n",
            "\u001b[?25hRequirement already satisfied: tensorboard-plugin-wit>=1.6.0 in /usr/local/lib/python3.6/dist-packages (from tensorboard<2.3.0,>=2.2.0->tensorflow==2.2->capreolus) (1.7.0)\n",
            "Requirement already satisfied: werkzeug>=0.11.15 in /usr/local/lib/python3.6/dist-packages (from tensorboard<2.3.0,>=2.2.0->tensorflow==2.2->capreolus) (1.0.1)\n",
            "Requirement already satisfied: markdown>=2.6.8 in /usr/local/lib/python3.6/dist-packages (from tensorboard<2.3.0,>=2.2.0->tensorflow==2.2->capreolus) (3.2.2)\n",
            "Requirement already satisfied: google-auth-oauthlib<0.5,>=0.4.1 in /usr/local/lib/python3.6/dist-packages (from tensorboard<2.3.0,>=2.2.0->tensorflow==2.2->capreolus) (0.4.1)\n",
            "Requirement already satisfied: dm-tree~=0.1.1 in /usr/local/lib/python3.6/dist-packages (from tensorflow-model-optimization>=0.2.1->tf-models-official>=2.3.0->tensorflow-ranking->capreolus) (0.1.5)\n",
            "Requirement already satisfied: python-slugify in /usr/local/lib/python3.6/dist-packages (from kaggle>=1.3.9->tf-models-official>=2.3.0->tensorflow-ranking->capreolus) (4.0.1)\n",
            "Requirement already satisfied: slugify in /usr/local/lib/python3.6/dist-packages (from kaggle>=1.3.9->tf-models-official>=2.3.0->tensorflow-ranking->capreolus) (0.0.1)\n",
            "Requirement already satisfied: typeguard in /usr/local/lib/python3.6/dist-packages (from tensorflow-addons->tf-models-official>=2.3.0->tensorflow-ranking->capreolus) (2.7.1)\n",
            "Requirement already satisfied: google-resumable-media!=0.4.0,<0.5.0dev,>=0.3.1 in /usr/local/lib/python3.6/dist-packages (from google-cloud-bigquery>=0.31.0->tf-models-official>=2.3.0->tensorflow-ranking->capreolus) (0.4.1)\n",
            "Requirement already satisfied: google-cloud-core<2.0dev,>=1.0.3 in /usr/local/lib/python3.6/dist-packages (from google-cloud-bigquery>=0.31.0->tf-models-official>=2.3.0->tensorflow-ranking->capreolus) (1.0.3)\n",
            "Requirement already satisfied: promise in /usr/local/lib/python3.6/dist-packages (from tensorflow-datasets->tf-models-official>=2.3.0->tensorflow-ranking->capreolus) (2.3)\n",
            "Requirement already satisfied: future in /usr/local/lib/python3.6/dist-packages (from tensorflow-datasets->tf-models-official>=2.3.0->tensorflow-ranking->capreolus) (0.16.0)\n",
            "Requirement already satisfied: tensorflow-metadata in /usr/local/lib/python3.6/dist-packages (from tensorflow-datasets->tf-models-official>=2.3.0->tensorflow-ranking->capreolus) (0.24.0)\n",
            "Requirement already satisfied: dill in /usr/local/lib/python3.6/dist-packages (from tensorflow-datasets->tf-models-official>=2.3.0->tensorflow-ranking->capreolus) (0.3.2)\n",
            "Requirement already satisfied: requests-oauthlib>=0.7.0 in /usr/local/lib/python3.6/dist-packages (from google-auth-oauthlib<0.5,>=0.4.1->tensorboard<2.3.0,>=2.2.0->tensorflow==2.2->capreolus) (1.3.0)\n",
            "Requirement already satisfied: text-unidecode>=1.3 in /usr/local/lib/python3.6/dist-packages (from python-slugify->kaggle>=1.3.9->tf-models-official>=2.3.0->tensorflow-ranking->capreolus) (1.3)\n",
            "Requirement already satisfied: google-api-core<2.0.0dev,>=1.14.0 in /usr/local/lib/python3.6/dist-packages (from google-cloud-core<2.0dev,>=1.0.3->google-cloud-bigquery>=0.31.0->tf-models-official>=2.3.0->tensorflow-ranking->capreolus) (1.16.0)\n",
            "Requirement already satisfied: googleapis-common-protos<2,>=1.52.0 in /usr/local/lib/python3.6/dist-packages (from tensorflow-metadata->tensorflow-datasets->tf-models-official>=2.3.0->tensorflow-ranking->capreolus) (1.52.0)\n",
            "Requirement already satisfied: oauthlib>=3.0.0 in /usr/local/lib/python3.6/dist-packages (from requests-oauthlib>=0.7.0->google-auth-oauthlib<0.5,>=0.4.1->tensorboard<2.3.0,>=2.2.0->tensorflow==2.2->capreolus) (3.1.0)\n",
            "Building wheels for collected packages: annoy, nltk, pymagnitude, sqlalchemy-utils, pytrec-eval-git, pyyaml, sacremoses, py-cpuinfo\n",
            "  Building wheel for annoy (setup.py) ... \u001b[?25l\u001b[?25hdone\n",
            "  Created wheel for annoy: filename=annoy-1.15.2-cp36-cp36m-linux_x86_64.whl size=297260 sha256=ab0438f035d75e5010725cea1571c36d8698a5ac0fbe91e4132a74f96ed96a39\n",
            "  Stored in directory: /root/.cache/pip/wheels/d4/78/3a/1c913a402f4d84f68eb0ea4f7c0de0d392725415c8ebe51068\n",
            "  Building wheel for nltk (setup.py) ... \u001b[?25l\u001b[?25hdone\n",
            "  Created wheel for nltk: filename=nltk-3.4.5-cp36-none-any.whl size=1449906 sha256=892b2d1b6435179fa55bf35f92838c9d0c38aa05cc272ae69fdc8812d5f3738c\n",
            "  Stored in directory: /root/.cache/pip/wheels/96/86/f6/68ab24c23f207c0077381a5e3904b2815136b879538a24b483\n",
            "  Building wheel for pymagnitude (setup.py) ... \u001b[?25l\u001b[?25hdone\n",
            "  Created wheel for pymagnitude: filename=pymagnitude-0.1.120-cp36-cp36m-linux_x86_64.whl size=135918208 sha256=26d17fd1b2379c5057f0a26445a7e167b4b6ae6b644e6249e38cda04a3daeab7\n",
            "  Stored in directory: /root/.cache/pip/wheels/a2/c7/98/cb48b9db35f8d1a7827b764dc36c5515179dc116448a47c8a1\n",
            "  Building wheel for sqlalchemy-utils (setup.py) ... \u001b[?25l\u001b[?25hdone\n",
            "  Created wheel for sqlalchemy-utils: filename=SQLAlchemy_Utils-0.36.8-py2.py3-none-any.whl size=93219 sha256=9b4ee5d09d0052377e0cc0fb02797f510670022519cd64c53864cbb94487ff6b\n",
            "  Stored in directory: /root/.cache/pip/wheels/68/31/b6/a96bf6868f42753696d647846c9a0f8e51bd99295790d07660\n",
            "  Building wheel for pytrec-eval-git (setup.py) ... \u001b[?25l\u001b[?25hdone\n",
            "  Created wheel for pytrec-eval-git: filename=pytrec_eval_git-0.5-cp36-cp36m-linux_x86_64.whl size=274839 sha256=bcc70fe4f17ff33cc6c020ea6478a5834456673fa045b5396c19f0e6adb22f88\n",
            "  Stored in directory: /root/.cache/pip/wheels/6e/65/ad/e7d968dd811bcbbfb1072a2df1958061a76c6b26a55b4dc15b\n",
            "  Building wheel for pyyaml (setup.py) ... \u001b[?25l\u001b[?25hdone\n",
            "  Created wheel for pyyaml: filename=PyYAML-5.3.1-cp36-cp36m-linux_x86_64.whl size=44619 sha256=c92c7dc659724b13ce8cf86cee24dafe131cf02a6c4bd729e5d95ab03557cf68\n",
            "  Stored in directory: /root/.cache/pip/wheels/a7/c1/ea/cf5bd31012e735dc1dfea3131a2d5eae7978b251083d6247bd\n",
            "  Building wheel for sacremoses (setup.py) ... \u001b[?25l\u001b[?25hdone\n",
            "  Created wheel for sacremoses: filename=sacremoses-0.0.43-cp36-none-any.whl size=893257 sha256=c174e5335e1bf1d33f1881dd2edc81ac860abfe4f604638299577feffae188f3\n",
            "  Stored in directory: /root/.cache/pip/wheels/29/3c/fd/7ce5c3f0666dab31a50123635e6fb5e19ceb42ce38d4e58f45\n",
            "  Building wheel for py-cpuinfo (setup.py) ... \u001b[?25l\u001b[?25hdone\n",
            "  Created wheel for py-cpuinfo: filename=py_cpuinfo-7.0.0-cp36-none-any.whl size=20071 sha256=093f70ca9fc63d02e50ff757a23adc11d7d68d3bc125b18305c766c79050d27c\n",
            "  Stored in directory: /root/.cache/pip/wheels/f1/93/7b/127daf0c3a5a49feb2fecd468d508067c733fba5192f726ad1\n",
            "Successfully built annoy nltk pymagnitude sqlalchemy-utils pytrec-eval-git pyyaml sacremoses py-cpuinfo\n",
            "\u001b[31mERROR: tf-models-official 2.3.0 has requirement tensorflow>=2.3.0, but you'll have tensorflow 2.2.0 which is incompatible.\u001b[0m\n",
            "\u001b[31mERROR: tensorflow-serving-api 2.3.0 has requirement tensorflow<3,>=2.3, but you'll have tensorflow 2.2.0 which is incompatible.\u001b[0m\n",
            "\u001b[31mERROR: scispacy 0.2.5 has requirement spacy<3.0.0,>=2.3.0, but you'll have spacy 2.2.4 which is incompatible.\u001b[0m\n",
            "Installing collected packages: mock, jmespath, botocore, s3transfer, boto3, torch, pytorch-pretrained-bert, annoy, cfgv, nodeenv, importlib-resources, distlib, appdirs, virtualenv, identify, pyyaml, pre-commit, torchvision, colorlog, sentencepiece, tensorflow-model-optimization, opencv-python-headless, tensorboard, tensorflow-estimator, tensorflow, tf-slim, py-cpuinfo, tf-models-official, tensorflow-serving-api, tensorflow-ranking, xxhash, pyjnius, pyserini, nltk, sqlalchemy-utils, colorama, profane, fasteners, pymagnitude, sacremoses, tokenizers, transformers, pysbd, pybind11, nmslib, scispacy, lz4, pytest-mock, psycopg2-binary, pytorch-transformers, pytrec-eval-git, capreolus\n",
            "  Found existing installation: torch 1.6.0+cu101\n",
            "    Uninstalling torch-1.6.0+cu101:\n",
            "      Successfully uninstalled torch-1.6.0+cu101\n",
            "  Found existing installation: PyYAML 3.13\n",
            "    Uninstalling PyYAML-3.13:\n",
            "      Successfully uninstalled PyYAML-3.13\n",
            "  Found existing installation: torchvision 0.7.0+cu101\n",
            "    Uninstalling torchvision-0.7.0+cu101:\n",
            "      Successfully uninstalled torchvision-0.7.0+cu101\n",
            "  Found existing installation: tensorboard 2.3.0\n",
            "    Uninstalling tensorboard-2.3.0:\n",
            "      Successfully uninstalled tensorboard-2.3.0\n",
            "  Found existing installation: tensorflow-estimator 2.3.0\n",
            "    Uninstalling tensorflow-estimator-2.3.0:\n",
            "      Successfully uninstalled tensorflow-estimator-2.3.0\n",
            "  Found existing installation: tensorflow 2.3.0\n",
            "    Uninstalling tensorflow-2.3.0:\n",
            "      Successfully uninstalled tensorflow-2.3.0\n",
            "  Found existing installation: nltk 3.2.5\n",
            "    Uninstalling nltk-3.2.5:\n",
            "      Successfully uninstalled nltk-3.2.5\n",
            "Successfully installed annoy-1.15.2 appdirs-1.4.4 boto3-1.15.14 botocore-1.18.14 capreolus-0.2.3 cfgv-3.2.0 colorama-0.4.3 colorlog-4.0.2 distlib-0.3.1 fasteners-0.15 identify-1.5.5 importlib-resources-3.0.0 jmespath-0.10.0 lz4-2.1.10 mock-4.0.2 nltk-3.4.5 nmslib-2.0.6 nodeenv-1.5.0 opencv-python-headless-4.4.0.44 pre-commit-2.7.1 profane-0.2.1 psycopg2-binary-2.8.6 py-cpuinfo-7.0.0 pybind11-2.5.0 pyjnius-1.2.1 pymagnitude-0.1.120 pysbd-0.3.2 pyserini-0.9.3.0 pytest-mock-1.10.4 pytorch-pretrained-bert-0.4.0 pytorch-transformers-1.1.0 pytrec-eval-git-0.5 pyyaml-5.3.1 s3transfer-0.3.3 sacremoses-0.0.43 scispacy-0.2.5 sentencepiece-0.1.91 sqlalchemy-utils-0.36.8 tensorboard-2.2.2 tensorflow-2.2.0 tensorflow-estimator-2.2.0 tensorflow-model-optimization-0.5.0 tensorflow-ranking-0.3.2 tensorflow-serving-api-2.3.0 tf-models-official-2.3.0 tf-slim-1.1.0 tokenizers-0.8.1rc2 torch-1.4.0 torchvision-0.5.0 transformers-3.3.1 virtualenv-20.0.33 xxhash-1.3.0\n"
          ],
          "name": "stdout"
        }
      ]
    },
    {
      "cell_type": "markdown",
      "metadata": {
        "id": "esnrijP29ewR"
      },
      "source": [
        "### Running a full reranking pipeline via python\n",
        "#### WARNING: Takes half an hour to complete since this cell includes downloading the data, indexing it, running a searcher on it, and then training a neural model\n",
        "##### (Figure 3. in the paper)\n"
      ]
    },
    {
      "cell_type": "code",
      "metadata": {
        "id": "BY_c6K9JOYvf"
      },
      "source": [
        "import os\n",
        "import shutil\n",
        "\n",
        "# #from capreolus import constants\n",
        "# from capreolus.utils.common import download_file, hash_file\n",
        "# from capreolus.utils.loginit import get_logger\n",
        "\n",
        "from capreolus.collection import Collection\n",
        "from capreolus.benchmark import Benchmark\n",
        "from profane import Dependency\n",
        "\n",
        "# logger = get_logger(__name__)\n",
        "# PACKAGE_PATH = constants[\"PACKAGE_PATH\"]\n",
        "\n",
        "# print(PACKAGE_PATH)"
      ],
      "execution_count": 25,
      "outputs": []
    },
    {
      "cell_type": "code",
      "metadata": {
        "id": "ONegPq9m-cit"
      },
      "source": [
        "@Collection.register\n",
        "class CROWDWORKERS(Collection):\n",
        "    \"\"\"A Non-factoid Question Answering Benchmark from Hashemi et al. [1]\n",
        "    [1] Helia Hashemi, Mohammad Aliannejadi, Hamed Zamani, and W. Bruce Croft. 2020. ANTIQUE: A non-factoid question answering benchmark. ECIR 2020.\n",
        "    \"\"\"\n",
        "\n",
        "    module_name = \"crowdWorkers\"\n",
        "    _path = \"/content/drive/My Drive/crowdWorkers\"\n",
        "\n",
        "    collection_type = \"TrecCollection\"\n",
        "    generator_type = \"DefaultLuceneDocumentGenerator\"\n"
      ],
      "execution_count": 21,
      "outputs": []
    },
    {
      "cell_type": "code",
      "metadata": {
        "id": "dvovk81LCsvv",
        "outputId": "be679953-cb3c-4d06-a446-7ccf12234af9",
        "colab": {
          "base_uri": "https://localhost:8080/"
        }
      },
      "source": [
        "!ls /content/"
      ],
      "execution_count": 13,
      "outputs": [
        {
          "output_type": "stream",
          "text": [
            "drive  sample_data\n"
          ],
          "name": "stdout"
        }
      ]
    },
    {
      "cell_type": "code",
      "metadata": {
        "id": "pvXKUGpI_2WJ",
        "outputId": "b319a964-2cf2-4bec-88b4-73676a8a8937",
        "colab": {
          "base_uri": "https://localhost:8080/"
        }
      },
      "source": [
        "with open('/content/drive/My Drive/topic.txt', 'r') as f: \n",
        "    print(f.readline())\n",
        "\n",
        "# ~/.capreolus."
      ],
      "execution_count": 15,
      "outputs": [
        {
          "output_type": "stream",
          "text": [
            " <top>\n",
            "\n"
          ],
          "name": "stdout"
        }
      ]
    },
    {
      "cell_type": "code",
      "metadata": {
        "id": "hmLm8kBs-bfu"
      },
      "source": [
        "@Benchmark.register\n",
        "class _FOOCROWDWORKER(Benchmark):\n",
        "    \"\"\"A Non-factoid Question Answering Benchmark from Hashemi et al. [1]\n",
        "    [1] Helia Hashemi, Mohammad Aliannejadi, Hamed Zamani, and W. Bruce Croft. 2020. ANTIQUE: A non-factoid question answering benchmark. ECIR 2020.\n",
        "    \"\"\"\n",
        "\n",
        "    module_name = \"crowdWorkers\"\n",
        "    dependencies = [Dependency(key=\"collection\", module=\"collection\", name=\"crowdWorkers\")]\n",
        "    qrel_file = \"/content/drive/My Drive/crowdWorkersBenchmark/qrel.txt\"\n",
        "    topic_file =  \"/content/drive/My Drive/crowdWorkersBenchmark/topic.txt\"\n",
        "    fold_file =  \"/content/drive/My Drive/crowdWorkersBenchmark/fold.json\"\n",
        "    query_type = \"title\"\n"
      ],
      "execution_count": 26,
      "outputs": []
    },
    {
      "cell_type": "code",
      "metadata": {
        "id": "svV4c7PQIpL2",
        "outputId": "aa4f7b79-8515-49cc-a332-b814640a88eb",
        "colab": {
          "base_uri": "https://localhost:8080/"
        }
      },
      "source": [
        "!ls /usr/local/lib/python3.6/dist-packages/capreolus"
      ],
      "execution_count": 30,
      "outputs": [
        {
          "output_type": "stream",
          "text": [
            "benchmark   evaluator.py  __init__.py  run.py\t task\t    trainer\n",
            "collection  extractor\t  __pycache__  sampler\t tests\t    utils\n",
            "data\t    index\t  reranker     searcher  tokenizer\n"
          ],
          "name": "stdout"
        }
      ]
    },
    {
      "cell_type": "code",
      "metadata": {
        "id": "KDmXD1mVIw-_",
        "outputId": "bc60b05a-a105-4f59-8dae-b1807d158875",
        "colab": {
          "base_uri": "https://localhost:8080/"
        }
      },
      "source": [
        "!vim foo"
      ],
      "execution_count": 40,
      "outputs": [
        {
          "output_type": "stream",
          "text": [
            "/bin/bash: vim: command not found\n"
          ],
          "name": "stdout"
        }
      ]
    },
    {
      "cell_type": "code",
      "metadata": {
        "id": "WONkz03A9eRq",
        "outputId": "5e8c6e8e-d9c6-43d6-b28a-19e3b837c790",
        "colab": {
          "base_uri": "https://localhost:8080/",
          "height": 364
        }
      },
      "source": [
        "import capreolus.evaluator\n",
        "from capreolus import parse_config_string\n",
        "from capreolus.task.rerank import RerankTask\n",
        "from profane import constants, config_list_to_dict\n",
        "\n",
        "\n",
        "# 1. Downloads the ANTIQUE dataset\n",
        "# 2. Runs BM25 on it with default params\n",
        "# 3. Reranks the top 1000 docs from BM25 search using KNRM (3 iterations, 512 samples in each, batch size of 32)\n",
        "# 4. Reports the metrics\n",
        "\n",
        "config_string = \"benchmark.name=crowdWorkers rank.searcher.name=BM25 reranker.name=KNRM reranker.trainer.niters=3\"\n",
        "task = RerankTask(parse_config_string(config_string))\n",
        "print(dir(task))\n",
        "task.print_pipeline()\n",
        "task.train()\n",
        "task.evaluate()\n"
      ],
      "execution_count": 39,
      "outputs": [
        {
          "output_type": "error",
          "ename": "AttributeError",
          "evalue": "ignored",
          "traceback": [
            "\u001b[0;31m---------------------------------------------------------------------------\u001b[0m",
            "\u001b[0;31mAttributeError\u001b[0m                            Traceback (most recent call last)",
            "\u001b[0;32m<ipython-input-39-ae77eddb656a>\u001b[0m in \u001b[0;36m<module>\u001b[0;34m()\u001b[0m\n\u001b[0;32m----> 1\u001b[0;31m \u001b[0;32mimport\u001b[0m \u001b[0mcapreolus\u001b[0m\u001b[0;34m.\u001b[0m\u001b[0mevaluator\u001b[0m\u001b[0;34m\u001b[0m\u001b[0;34m\u001b[0m\u001b[0m\n\u001b[0m\u001b[1;32m      2\u001b[0m \u001b[0;32mfrom\u001b[0m \u001b[0mcapreolus\u001b[0m \u001b[0;32mimport\u001b[0m \u001b[0mparse_config_string\u001b[0m\u001b[0;34m\u001b[0m\u001b[0;34m\u001b[0m\u001b[0m\n\u001b[1;32m      3\u001b[0m \u001b[0;32mfrom\u001b[0m \u001b[0mcapreolus\u001b[0m\u001b[0;34m.\u001b[0m\u001b[0mtask\u001b[0m\u001b[0;34m.\u001b[0m\u001b[0mrerank\u001b[0m \u001b[0;32mimport\u001b[0m \u001b[0mRerankTask\u001b[0m\u001b[0;34m\u001b[0m\u001b[0;34m\u001b[0m\u001b[0m\n\u001b[1;32m      4\u001b[0m \u001b[0;32mfrom\u001b[0m \u001b[0mprofane\u001b[0m \u001b[0;32mimport\u001b[0m \u001b[0mconstants\u001b[0m\u001b[0;34m,\u001b[0m \u001b[0mconfig_list_to_dict\u001b[0m\u001b[0;34m\u001b[0m\u001b[0;34m\u001b[0m\u001b[0m\n\u001b[1;32m      5\u001b[0m \u001b[0;34m\u001b[0m\u001b[0m\n",
            "\u001b[0;32m/usr/local/lib/python3.6/dist-packages/capreolus/__init__.py\u001b[0m in \u001b[0;36m<module>\u001b[0;34m()\u001b[0m\n\u001b[1;32m     24\u001b[0m \u001b[0;31m# note: order is important to avoid circular imports\u001b[0m\u001b[0;34m\u001b[0m\u001b[0;34m\u001b[0m\u001b[0;34m\u001b[0m\u001b[0m\n\u001b[1;32m     25\u001b[0m \u001b[0;32mfrom\u001b[0m \u001b[0mcapreolus\u001b[0m\u001b[0;34m.\u001b[0m\u001b[0mutils\u001b[0m\u001b[0;34m.\u001b[0m\u001b[0mloginit\u001b[0m \u001b[0;32mimport\u001b[0m \u001b[0mget_logger\u001b[0m\u001b[0;34m\u001b[0m\u001b[0;34m\u001b[0m\u001b[0m\n\u001b[0;32m---> 26\u001b[0;31m \u001b[0;32mimport\u001b[0m \u001b[0mcapreolus\u001b[0m\u001b[0;34m.\u001b[0m\u001b[0mevaluator\u001b[0m \u001b[0;32mas\u001b[0m \u001b[0mevaluator\u001b[0m\u001b[0;34m\u001b[0m\u001b[0;34m\u001b[0m\u001b[0m\n\u001b[0m\u001b[1;32m     27\u001b[0m \u001b[0;32mfrom\u001b[0m \u001b[0mcapreolus\u001b[0m\u001b[0;34m.\u001b[0m\u001b[0mbenchmark\u001b[0m \u001b[0;32mimport\u001b[0m \u001b[0mBenchmark\u001b[0m\u001b[0;34m\u001b[0m\u001b[0;34m\u001b[0m\u001b[0m\n\u001b[1;32m     28\u001b[0m \u001b[0;32mfrom\u001b[0m \u001b[0mcapreolus\u001b[0m\u001b[0;34m.\u001b[0m\u001b[0mcollection\u001b[0m \u001b[0;32mimport\u001b[0m \u001b[0mCollection\u001b[0m\u001b[0;34m\u001b[0m\u001b[0;34m\u001b[0m\u001b[0m\n",
            "\u001b[0;31mAttributeError\u001b[0m: module 'capreolus' has no attribute 'evaluator'"
          ]
        }
      ]
    },
    {
      "cell_type": "markdown",
      "metadata": {
        "id": "RDAgW0fHF6py"
      },
      "source": [
        "### Indexing and searching a collection\n",
        "##### (Figure 4 in the paper)\n",
        "\n",
        "1. Indexes the ANTIQUE collection\n",
        "2. Issue a BM25 search against the index\n"
      ]
    },
    {
      "cell_type": "code",
      "metadata": {
        "id": "biAJiYmgF87A",
        "outputId": "60695e1b-baad-475c-b8de-fa182007e40e",
        "colab": {
          "base_uri": "https://localhost:8080/",
          "height": 85
        }
      },
      "source": [
        "from capreolus.collection import ANTIQUE\n",
        "from capreolus.index import AnseriniIndex\n",
        "from capreolus.searcher import BM25\n",
        "\n",
        "collection = ANTIQUE()\n",
        "index = AnseriniIndex({\"stemmer\": \"porter\"}, {\"collection\": collection})\n",
        "index.create_index()\n",
        "collection.find_document_path()\n",
        "\n",
        "print(index.get_df(\"retrieval\"))\n",
        "print(index.get_df(\"retriev\"))\n",
        "\n",
        "searcher = BM25({\"b\": 0.75, \"hits\": 3}, {\"index\": index})\n",
        "\n",
        "# Let us see what documents were retrieved:\n",
        "print(searcher.query(\"information retrieval\"))\n",
        "\n",
        "index.get_doc('746919_5')"
      ],
      "execution_count": null,
      "outputs": [
        {
          "output_type": "stream",
          "text": [
            "0\n",
            "155\n",
            "OrderedDict([('746919_5', 8.655200004577637), ('1169146_0', 7.959799766540527), ('2011132_1', 7.939199924468994)])\n"
          ],
          "name": "stdout"
        },
        {
          "output_type": "execute_result",
          "data": {
            "text/plain": [
              "'as intertainment, to retrieve information, and a writing tool.....and much more of course'"
            ]
          },
          "metadata": {
            "tags": []
          },
          "execution_count": 19
        }
      ]
    },
    {
      "cell_type": "markdown",
      "metadata": {
        "id": "9kdmeKBgIbh4"
      },
      "source": [
        "#### Reranking an existing set of results\n",
        "##### (Figure 5 in the paper)"
      ]
    },
    {
      "cell_type": "code",
      "metadata": {
        "id": "7OgqV38KGY2l",
        "outputId": "56401140-d974-4ac4-fe0a-40d9ae6d84b6",
        "colab": {
          "base_uri": "https://localhost:8080/",
          "height": 1000
        }
      },
      "source": [
        "from capreolus.searcher import Searcher\n",
        "from capreolus.benchmark import ANTIQUE as AntiqueBenchmark\n",
        "import os\n",
        "# Uses the searcher results from the previous cell\n",
        "benchmark = AntiqueBenchmark()\n",
        "output_path = \"searcher\"\n",
        "\n",
        "# Subsequent runs will used the cached searcher output\n",
        "searcher_output_dir = searcher.query_from_file(benchmark.topic_file, output_path)\n",
        "\n",
        "run = Searcher.load_trec_run(searcher_output_dir + \"/searcher\")\n",
        "\n",
        "task = RerankTask({\n",
        "    \"reranker\": {\n",
        "        \"name\": \"DRMM\",\n",
        "        \"nbins\": 10,\n",
        "        \"trainer\": {\n",
        "            \"niters\": 1\n",
        "        },\n",
        "    },\n",
        "    \"benchmark\": {\n",
        "        \"name\": \"antique\"\n",
        "    }\n",
        "})\n",
        "\n",
        "results = task.rerank_run(run, \"rerank_out_path\", include_train=True)\n",
        "print(results.keys())\n",
        "print(results[\"dev\"])"
      ],
      "execution_count": null,
      "outputs": [
        {
          "output_type": "stream",
          "text": [
            "2020-06-10 12:26:27,155 - INFO - capreolus.searcher._anserini_query_from_file - Anserini writing runs to searcher/searcher\n",
            "2020-06-10 12:26:28,148 - WARNING - capreolus.searcher.filter_and_log_anserini_output - [AnseriniProcess] WARNING: sun.reflect.Reflection.getCallerClass is not supported. This will impact performance.\n",
            "2020-06-10 12:26:28,160 - INFO - capreolus.searcher.filter_and_log_anserini_output - [AnseriniProcess] [main] search.SearchCollection (SearchCollection.java:238) - ============ Initializing Searcher ============\n",
            "2020-06-10 12:26:28,166 - INFO - capreolus.searcher.filter_and_log_anserini_output - [AnseriniProcess] [main] search.SearchCollection (SearchCollection.java:239) - Index: /root/.capreolus/cache/collection-antique/index-anserini_indexstops-False_stemmer-porter/index\n",
            "2020-06-10 12:26:28,349 - INFO - capreolus.searcher.filter_and_log_anserini_output - [AnseriniProcess] [main] search.SearchCollection (SearchCollection.java:276) - Language: en\n",
            "2020-06-10 12:26:28,362 - INFO - capreolus.searcher.filter_and_log_anserini_output - [AnseriniProcess] [main] search.SearchCollection (SearchCollection.java:277) - Stemmer: porter\n",
            "2020-06-10 12:26:28,365 - INFO - capreolus.searcher.filter_and_log_anserini_output - [AnseriniProcess] [main] search.SearchCollection (SearchCollection.java:278) - Keep stopwords? false\n",
            "2020-06-10 12:26:28,510 - INFO - capreolus.searcher.filter_and_log_anserini_output - [AnseriniProcess] [main] search.SearchCollection (SearchCollection.java:426) - runtag: Anserini\n",
            "2020-06-10 12:26:28,517 - INFO - capreolus.searcher.filter_and_log_anserini_output - [AnseriniProcess] [main] search.SearchCollection (SearchCollection.java:432) - ============ Launching Search Threads ============\n",
            "2020-06-10 12:26:28,523 - INFO - capreolus.searcher.filter_and_log_anserini_output - [AnseriniProcess] [pool-2-thread-1] search.SearchCollection$SearcherThread (SearchCollection.java:153) - [Start] ranker: bm25(k1=0.9,b=0.75), reranker: default\n",
            "2020-06-10 12:26:29,911 - INFO - capreolus.searcher.filter_and_log_anserini_output - [AnseriniProcess] [pool-2-thread-1] search.SearchCollection$SearcherThread (SearchCollection.java:214) - 100 queries processed\n",
            "2020-06-10 12:26:30,671 - INFO - capreolus.searcher.filter_and_log_anserini_output - [AnseriniProcess] [pool-2-thread-1] search.SearchCollection$SearcherThread (SearchCollection.java:214) - 200 queries processed\n",
            "2020-06-10 12:26:31,195 - INFO - capreolus.searcher.filter_and_log_anserini_output - [AnseriniProcess] [pool-2-thread-1] search.SearchCollection$SearcherThread (SearchCollection.java:214) - 300 queries processed\n",
            "2020-06-10 12:26:31,763 - INFO - capreolus.searcher.filter_and_log_anserini_output - [AnseriniProcess] [pool-2-thread-1] search.SearchCollection$SearcherThread (SearchCollection.java:214) - 400 queries processed\n",
            "2020-06-10 12:26:32,227 - INFO - capreolus.searcher.filter_and_log_anserini_output - [AnseriniProcess] [pool-2-thread-1] search.SearchCollection$SearcherThread (SearchCollection.java:214) - 500 queries processed\n",
            "2020-06-10 12:26:32,720 - INFO - capreolus.searcher.filter_and_log_anserini_output - [AnseriniProcess] [pool-2-thread-1] search.SearchCollection$SearcherThread (SearchCollection.java:214) - 600 queries processed\n",
            "2020-06-10 12:26:33,253 - INFO - capreolus.searcher.filter_and_log_anserini_output - [AnseriniProcess] [pool-2-thread-1] search.SearchCollection$SearcherThread (SearchCollection.java:214) - 700 queries processed\n",
            "2020-06-10 12:26:33,725 - INFO - capreolus.searcher.filter_and_log_anserini_output - [AnseriniProcess] [pool-2-thread-1] search.SearchCollection$SearcherThread (SearchCollection.java:214) - 800 queries processed\n",
            "2020-06-10 12:26:34,262 - INFO - capreolus.searcher.filter_and_log_anserini_output - [AnseriniProcess] [pool-2-thread-1] search.SearchCollection$SearcherThread (SearchCollection.java:214) - 900 queries processed\n",
            "2020-06-10 12:26:34,708 - INFO - capreolus.searcher.filter_and_log_anserini_output - [AnseriniProcess] [pool-2-thread-1] search.SearchCollection$SearcherThread (SearchCollection.java:214) - 1000 queries processed\n",
            "2020-06-10 12:26:35,165 - INFO - capreolus.searcher.filter_and_log_anserini_output - [AnseriniProcess] [pool-2-thread-1] search.SearchCollection$SearcherThread (SearchCollection.java:214) - 1100 queries processed\n",
            "2020-06-10 12:26:35,744 - INFO - capreolus.searcher.filter_and_log_anserini_output - [AnseriniProcess] [pool-2-thread-1] search.SearchCollection$SearcherThread (SearchCollection.java:214) - 1200 queries processed\n",
            "2020-06-10 12:26:36,298 - INFO - capreolus.searcher.filter_and_log_anserini_output - [AnseriniProcess] [pool-2-thread-1] search.SearchCollection$SearcherThread (SearchCollection.java:214) - 1300 queries processed\n",
            "2020-06-10 12:26:36,965 - INFO - capreolus.searcher.filter_and_log_anserini_output - [AnseriniProcess] [pool-2-thread-1] search.SearchCollection$SearcherThread (SearchCollection.java:214) - 1400 queries processed\n",
            "2020-06-10 12:26:37,514 - INFO - capreolus.searcher.filter_and_log_anserini_output - [AnseriniProcess] [pool-2-thread-1] search.SearchCollection$SearcherThread (SearchCollection.java:214) - 1500 queries processed\n",
            "2020-06-10 12:26:38,053 - INFO - capreolus.searcher.filter_and_log_anserini_output - [AnseriniProcess] [pool-2-thread-1] search.SearchCollection$SearcherThread (SearchCollection.java:214) - 1600 queries processed\n",
            "2020-06-10 12:26:38,428 - INFO - capreolus.searcher.filter_and_log_anserini_output - [AnseriniProcess] [pool-2-thread-1] search.SearchCollection$SearcherThread (SearchCollection.java:214) - 1700 queries processed\n",
            "2020-06-10 12:26:38,869 - INFO - capreolus.searcher.filter_and_log_anserini_output - [AnseriniProcess] [pool-2-thread-1] search.SearchCollection$SearcherThread (SearchCollection.java:214) - 1800 queries processed\n",
            "2020-06-10 12:26:39,376 - INFO - capreolus.searcher.filter_and_log_anserini_output - [AnseriniProcess] [pool-2-thread-1] search.SearchCollection$SearcherThread (SearchCollection.java:214) - 1900 queries processed\n",
            "2020-06-10 12:26:39,900 - INFO - capreolus.searcher.filter_and_log_anserini_output - [AnseriniProcess] [pool-2-thread-1] search.SearchCollection$SearcherThread (SearchCollection.java:214) - 2000 queries processed\n",
            "2020-06-10 12:26:40,461 - INFO - capreolus.searcher.filter_and_log_anserini_output - [AnseriniProcess] [pool-2-thread-1] search.SearchCollection$SearcherThread (SearchCollection.java:214) - 2100 queries processed\n",
            "2020-06-10 12:26:40,906 - INFO - capreolus.searcher.filter_and_log_anserini_output - [AnseriniProcess] [pool-2-thread-1] search.SearchCollection$SearcherThread (SearchCollection.java:214) - 2200 queries processed\n",
            "2020-06-10 12:26:41,462 - INFO - capreolus.searcher.filter_and_log_anserini_output - [AnseriniProcess] [pool-2-thread-1] search.SearchCollection$SearcherThread (SearchCollection.java:214) - 2300 queries processed\n",
            "2020-06-10 12:26:41,905 - INFO - capreolus.searcher.filter_and_log_anserini_output - [AnseriniProcess] [pool-2-thread-1] search.SearchCollection$SearcherThread (SearchCollection.java:214) - 2400 queries processed\n",
            "2020-06-10 12:26:42,511 - INFO - capreolus.searcher.filter_and_log_anserini_output - [AnseriniProcess] [pool-2-thread-1] search.SearchCollection$SearcherThread (SearchCollection.java:214) - 2500 queries processed\n",
            "2020-06-10 12:26:43,027 - INFO - capreolus.searcher.filter_and_log_anserini_output - [AnseriniProcess] [pool-2-thread-1] search.SearchCollection$SearcherThread (SearchCollection.java:214) - 2600 queries processed\n",
            "2020-06-10 12:26:43,149 - INFO - capreolus.searcher.filter_and_log_anserini_output - [AnseriniProcess] [pool-2-thread-1] search.SearchCollection$SearcherThread (SearchCollection.java:221) - [End ] ranker: bm25(k1=0.9,b=0.75), reranker: default\n",
            "2020-06-10 12:26:43,163 - INFO - capreolus.searcher.filter_and_log_anserini_output - [AnseriniProcess] [pool-2-thread-1] search.SearchCollection$SearcherThread (SearchCollection.java:222) - 2626 topics processed in 00:00:14\n",
            "2020-06-10 12:26:43,187 - INFO - capreolus.searcher.filter_and_log_anserini_output - [AnseriniProcess] [main] search.SearchCollection (SearchCollection.java:643) - Total run time: 00:00:15\n",
            "2020-06-10 12:26:45,696 - WARNING - capreolus.extractor._extend_stoi - extending idf while it's not yet instantiated\n",
            "2020-06-10 12:26:46,246 - INFO - capreolus.extractor._build_vocab - vocabulary constructed, with 21046 terms in total\n",
            "100%|██████████| 21046/21046 [00:01<00:00, 17809.09it/s]\n",
            "2020-06-10 12:27:20,938 - INFO - capreolus.extractor._build_embedding_matrix - embedding matrix glove6b constructed, with shape (21046, 300)\n",
            "2020-06-10 12:27:20,943 - WARNING - capreolus.extractor._build_embedding_matrix - 3066/21046 (0.146) term missed\n",
            "2020-06-10 12:27:21,133 - INFO - capreolus.trainer.train - starting training from iteration 0/1\n",
            "Iter progression: 14it [00:00, 40.61it/s]\n",
            "2020-06-10 12:27:21,486 - INFO - capreolus.trainer.train - A single iteration takes 0.3491528034210205\n",
            "2020-06-10 12:27:21,491 - INFO - capreolus.trainer.train - iter = 0 loss = 0.995705\n",
            "Predicting on dev: 19it [00:00, 133.50it/s]\n",
            "2020-06-10 12:27:21,708 - INFO - capreolus.trainer.train - dev metrics: P_20=0.035 map=0.069 ndcg_cut_20=0.125\n",
            "2020-06-10 12:27:22,234 - INFO - capreolus.trainer.train - training loss: [0.9957054257392883]\n",
            "2020-06-10 12:27:22,237 - INFO - capreolus.trainer.train - Training took 1.100761890411377\n",
            "Predicting on dev: 19it [00:00, 111.56it/s]\n",
            "Predicting on dev: 19it [00:00, 132.00it/s]\n",
            "Predicting on dev: 209it [00:01, 129.66it/s]\n"
          ],
          "name": "stderr"
        },
        {
          "output_type": "stream",
          "text": [
            "dict_keys(['dev', 'test', 'train'])\n",
            "{'11706': {'11706_10': -0.373046875, '2665233_12': -0.35498046875, '11706_3': -0.322998046875}, '17665': {'3839244_1': -0.3369140625, '2281177_8': -0.339111328125, '2333554_2': -0.361328125}, '57572': {'57572_0': -0.37255859375, '3774866_0': -0.374267578125, '3631491_3': -0.364013671875}, '99112': {'661986_7': -0.366455078125, '4215565_0': -0.3642578125, '99112_1': -0.3427734375}, '125626': {'125626_2': -0.3447265625, '125626_3': -0.36767578125, '1144773_0': -0.361083984375}, '126182': {'1813636_3': -0.32421875, '4254140_6': -0.331298828125, '4256577_0': -0.3564453125}, '189452': {'2197832_1': -0.3720703125, '2967656_8': -0.368408203125, '1781827_5': -0.3779296875}, '227569': {'227569_6': -0.351806640625, '227569_10': -0.342041015625, '259554_2': -0.354248046875}, '276151': {'276151_6': -0.380859375, '276151_8': -0.33056640625, '1435289_0': -0.3583984375}, '284239': {'1977360_6': -0.37890625, '239942_7': -0.365234375, '284239_17': -0.367431640625}, '372324': {'372324_4': -0.359130859375, '2821473_6': -0.356201171875, '1418221_2': -0.3857421875}, '404751': {'1370078_14': -0.38037109375, '1840703_9': -0.36376953125, '3289307_7': -0.35693359375}, '416070': {'979081_8': -0.357421875, '979081_0': -0.361572265625, '979081_2': -0.364990234375}, '420742': {'4239557_1': -0.361083984375, '420742_2': -0.34619140625, '2971527_0': -0.34423828125}, '554539': {'194526_10': -0.38720703125, '1329763_6': -0.35400390625, '149386_11': -0.354736328125}, '596415': {'3573609_1': -0.3212890625, '4439535_0': -0.330810546875, '3008049_1': -0.326416015625}, '596721': {'596721_3': -0.362060546875, '596721_2': -0.36083984375, '1218331_2': -0.3525390625}, '605708': {'1867737_6': -0.337158203125, '716946_8': -0.37548828125, '1830757_7': -0.365234375}, '616745': {'1193150_0': -0.3486328125, '585122_20': -0.34814453125, '3954408_4': -0.35595703125}, '625927': {'625927_0': -0.36474609375, '3710272_1': -0.3720703125, '2620422_3': -0.379638671875}, '641844': {'641844_0': -0.3486328125, '1434118_5': -0.35791015625, '58647_4': -0.388671875}, '643630': {'643630_2': -0.3232421875, '925338_4': -0.32666015625, '3928749_15': -0.3642578125}, '658382': {'133577_10': -0.3251953125, '1690253_6': -0.357177734375, '1632621_4': -0.347900390625}, '721897': {'721897_2': -0.3154296875, '721897_0': -0.334716796875, '422206_11': -0.32275390625}, '735075': {'735075_13': -0.338623046875, '181119_196': -0.32373046875, '181119_393': -0.32373046875}, '829764': {'778064_5': -0.3232421875, '2249748_5': -0.355224609375, '2901595_0': -0.369384765625}, '844842': {'844842_2': -0.302490234375, '1682634_2': -0.330322265625, '765133_1': -0.327392578125}, '851454': {'851454_35': -0.3330078125, '851454_20': -0.3359375, '1672373_5': -0.382080078125}, '871014': {'2832406_3': -0.363525390625, '146275_5': -0.3193359375, '782817_2': -0.363525390625}, '886748': {'886748_27': -0.3447265625, '886748_3': -0.336669921875, '886748_17': -0.33544921875}, '894023': {'333498_3': -0.327392578125, '1475950_4': -0.372314453125, '3502567_1': -0.351318359375}, '900392': {'900392_3': -0.318115234375, '499974_95': -0.349853515625, '900392_1': -0.3349609375}, '903915': {'903915_15': -0.351806640625, '2173996_2': -0.360595703125, '3216552_9': -0.339111328125}, '940391': {'2625842_2': -0.350830078125, '1672373_5': -0.38134765625, '1628352_11': -0.320068359375}, '952062': {'952062_6': -0.3759765625, '952062_7': -0.356201171875, '952062_3': -0.358154296875}, '978626': {'1522658_0': -0.375, '852312_5': -0.389404296875, '296986_7': -0.34619140625}, '1006398': {'16843_0': -0.340576171875, '1006398_0': -0.349365234375, '2445794_3': -0.374267578125}, '1011178': {'4316440_9': -0.354248046875, '4316440_8': -0.330078125, '1464876_3': -0.3740234375}, '1034314': {'351571_14': -0.33203125, '1034314_28': -0.3447265625, '3242677_1': -0.341552734375}, '1038354': {'4240751_3': -0.316162109375, '224823_10': -0.36181640625, '3755353_10': -0.34228515625}, '1043692': {'357507_1': -0.35302734375, '3026094_5': -0.324462890625, '2854614_14': -0.367919921875}, '1046895': {'1046895_6': -0.357666015625, '1046895_14': -0.387939453125, '1046895_12': -0.364990234375}, '1114696': {'1114696_5': -0.340087890625, '1114696_2': -0.377197265625, '1114696_0': -0.374267578125}, '1114974': {'1114974_12': -0.357177734375, '2089269_2': -0.3740234375, '221209_2': -0.31884765625}, '1123138': {'1027596_0': -0.3564453125, '3175124_14': -0.36328125, '2602933_0': -0.361083984375}, '1136016': {'1136016_1': -0.373291015625, '3865022_14': -0.343017578125, '3224335_3': -0.36083984375}, '1139872': {'2467184_2': -0.370361328125, '3648060_0': -0.383056640625, '4362153_4': -0.3779296875}, '1153674': {'460728_13': -0.3115234375, '3136314_3': -0.34521484375, '532418_7': -0.303955078125}, '1163367': {'2379246_4': -0.337646484375, '744036_6': -0.364990234375, '4239080_4': -0.365966796875}, '1184520': {'4463637_21': -0.38134765625, '2733640_7': -0.37744140625, '759033_1': -0.3779296875}, '1188052': {'1207074_18': -0.335205078125, '4249780_1': -0.3515625, '1170190_6': -0.34375}, '1194269': {'276975_3': -0.33837890625, '1194269_4': -0.33837890625, '951010_7': -0.343994140625}, '1199893': {'1199893_8': -0.34423828125, '1199893_9': -0.350830078125, '1199893_0': -0.34521484375}, '1208376': {'1208376_0': -0.368408203125, '1476653_3': -0.370849609375, '1988909_0': -0.3662109375}, '1318456': {'1318456_7': -0.346923828125, '1428108_7': -0.318359375, '1340033_6': -0.308349609375}, '1321784': {'1321784_1': -0.3603515625, '1321784_0': -0.350341796875, '3670601_2': -0.380126953125}, '1345517': {'2813978_0': -0.329833984375, '1345517_0': -0.344970703125, '925375_2': -0.353515625}, '1353933': {'57126_5': -0.330810546875, '3345374_1': -0.382080078125, '3554164_2': -0.33251953125}, '1369513': {'1369513_17': -0.356201171875, '1369513_24': -0.374755859375, '1369513_20': -0.357421875}, '1379392': {'3371353_0': -0.367431640625, '516931_1': -0.3447265625, '3954408_7': -0.37109375}, '1395602': {'1768249_2': -0.37060546875, '2533331_4': -0.389404296875, '1768249_4': -0.384033203125}, '1398838': {'1620331_0': -0.37548828125, '1960224_5': -0.361083984375, '3239154_2': -0.369140625}, '1498267': {'1498267_4': -0.344482421875, '4150932_0': -0.358154296875, '3123461_8': -0.32958984375}, '1512776': {'3559029_0': -0.38232421875, '1852712_7': -0.38037109375, '3003258_1': -0.3623046875}, '1542660': {'1542660_13': -0.33251953125, '1917178_2': -0.326416015625, '1826480_4': -0.336669921875}, '1543498': {'2927653_1': -0.373291015625, '17768_5': -0.322021484375, '324520_3': -0.370849609375}, '1592740': {'1394365_8': -0.3671875, '2593710_0': -0.347900390625, '138303_4': -0.375732421875}, '1598547': {'72934_1': -0.3251953125, '1489906_6': -0.33984375, '711314_22': -0.347412109375}, '1637629': {'1926566_9': -0.334228515625, '1926566_25': -0.330078125, '3212882_14': -0.307861328125}, '1671629': {'4393197_1': -0.353271484375, '1671629_4': -0.379638671875, '2367962_1': -0.3505859375}, '1679440': {'2102429_2': -0.347900390625, '3308469_11': -0.3525390625, '1679440_2': -0.348388671875}, '1708787': {'3406405_11': -0.3623046875, '929743_0': -0.37939453125, '1023440_3': -0.375}, '1747254': {'325354_2': -0.38037109375, '4444420_0': -0.369384765625, '109759_3': -0.3701171875}, '1756161': {'1756161_9': -0.373046875, '1756161_3': -0.377197265625, '3382519_5': -0.36474609375}, '1781331': {'3986464_9': -0.350830078125, '3655117_1': -0.334716796875, '2267256_1': -0.34033203125}, '1787885': {'2566583_8': -0.347412109375, '3489744_16': -0.399658203125, '3136159_2': -0.380859375}, '1803954': {'1803954_2': -0.369873046875, '1803954_0': -0.355712890625, '1803954_1': -0.360107421875}, '1885563': {'1885563_0': -0.325439453125, '1008355_9': -0.3486328125, '1376382_0': -0.35888671875}, '1895467': {'1322069_0': -0.32666015625, '3911224_33': -0.34521484375, '4009460_0': -0.334228515625}, '1898104': {'2127060_0': -0.35498046875, '3693065_3': -0.356201171875, '4119219_1': -0.3544921875}, '1905396': {'3753561_7': -0.345947265625, '345861_15': -0.325439453125, '4295205_5': -0.37890625}, '1920407': {'2000153_1': -0.3583984375, '2928020_3': -0.353759765625, '1920407_0': -0.344482421875}, '1937100': {'1937100_1': -0.350830078125, '1937100_2': -0.3427734375, '491115_5': -0.390625}, '1949736': {'4020584_0': -0.3798828125, '1949736_0': -0.3466796875, '1333877_2': -0.35595703125}, '1957792': {'1957792_6': -0.34814453125, '3340360_0': -0.36279296875, '591452_7': -0.379638671875}, '1990217': {'310696_17': -0.369140625, '951680_4': -0.35498046875, '3676344_1': -0.357666015625}, '2044211': {'3155963_0': -0.346435546875, '1284394_1': -0.358642578125, '1362487_9': -0.366943359375}, '2072335': {'1889933_0': -0.346923828125, '379962_3': -0.365234375, '1990217_2': -0.346923828125}, '2094435': {'811047_3': -0.3466796875, '4176455_0': -0.365478515625, '621158_0': -0.349365234375}, '2113006': {'1835138_0': -0.378173828125, '3311489_6': -0.377685546875, '1974104_2': -0.35498046875}, '2144267': {'2144267_0': -0.3447265625, '2385426_3': -0.34619140625, '3342023_2': -0.368408203125}, '2148071': {'894174_19': -0.33447265625, '3453507_8': -0.349853515625, '4192578_9': -0.323486328125}, '2161729': {'2008017_2': -0.372314453125, '4152728_15': -0.357177734375, '1983610_4': -0.35498046875}, '2189216': {'2448686_2': -0.34912109375, '2494587_2': -0.38916015625, '1207973_5': -0.366455078125}, '2250547': {'1052889_13': -0.380126953125, '3531330_2': -0.38037109375, '3531330_8': -0.379150390625}, '2269042': {'2748057_7': -0.34228515625, '2269042_0': -0.32861328125, '2789791_11': -0.307373046875}, '2272542': {'2272542_9': -0.359619140625, '2272542_6': -0.38671875, '2272542_12': -0.323486328125}, '2282115': {'3434592_1': -0.33349609375, '2214689_0': -0.367431640625, '2342939_2': -0.322021484375}, '2330967': {'2330967_0': -0.345703125, '266516_2': -0.330322265625, '3227117_1': -0.3427734375}, '2352180': {'2352180_8': -0.37744140625, '2352180_26': -0.345458984375, '2352180_11': -0.38818359375}, '2402930': {'3675965_1': -0.379638671875, '2784861_3': -0.3603515625, '3373480_9': -0.3271484375}, '2441094': {'4457820_6': -0.3896484375, '4234084_1': -0.318359375, '3900649_3': -0.380126953125}, '2447143': {'552031_3': -0.331298828125, '1097255_5': -0.330078125, '2686310_0': -0.3203125}, '2458380': {'2458380_9': -0.338623046875, '3701232_23': -0.380615234375, '2631690_3': -0.35986328125}, '2516309': {'2602178_1': -0.370361328125, '2602178_3': -0.368896484375, '2516309_3': -0.345947265625}, '2531329': {'1513466_1': -0.3359375, '1513466_0': -0.359375, '3982659_0': -0.348876953125}, '2539683': {'4239545_1': -0.389404296875, '2982923_6': -0.36474609375, '2467380_4': -0.39599609375}, '2593499': {'2593499_2': -0.376220703125, '2593499_10': -0.35546875, '2593499_14': -0.367919921875}, '2597856': {'2597856_7': -0.329345703125, '1873629_3': -0.3115234375, '1236915_8': -0.351806640625}, '2615234': {'3034950_1': -0.37060546875, '2873_4': -0.384033203125, '2873_1': -0.379638671875}, '2619087': {'434571_5': -0.374755859375, '2619087_2': -0.38037109375, '2619087_1': -0.366943359375}, '2632334': {'2632334_16': -0.331298828125, '2632334_0': -0.34521484375, '2632334_9': -0.316162109375}, '2647320': {'2647320_6': -0.322265625, '2647320_0': -0.3427734375, '3218597_0': -0.35009765625}, '2653191': {'3797068_0': -0.33740234375, '1912657_4': -0.3544921875, '3340360_0': -0.362060546875}, '2656513': {'2695702_2': -0.335205078125, '220987_2': -0.34326171875, '1111373_0': -0.3369140625}, '2685407': {'1345397_4': -0.335205078125, '2351291_5': -0.33544921875, '1345397_0': -0.35009765625}, '2700496': {'2945170_2': -0.365234375, '2945170_4': -0.334228515625, '46332_0': -0.348876953125}, '2736707': {'4432031_5': -0.3740234375, '2736707_0': -0.388427734375, '2736707_1': -0.357177734375}, '2776069': {'2776069_9': -0.37548828125, '4025466_2': -0.361083984375, '2776069_13': -0.348388671875}, '2787424': {'2787424_8': -0.3642578125, '2787424_3': -0.36962890625, '2787424_4': -0.385009765625}, '2808917': {'3828054_4': -0.33349609375, '3261743_13': -0.34130859375, '2162118_2': -0.3408203125}, '2809444': {'2344586_2': -0.359130859375, '3511201_0': -0.36474609375, '17615_1': -0.352294921875}, '2817114': {'2372834_2': -0.34375, '4259131_3': -0.35498046875, '1239966_11': -0.305419921875}, '2835161': {'2626584_9': -0.351806640625, '3920908_1': -0.378662109375, '147794_4': -0.333740234375}, '2844097': {'4136319_2': -0.3486328125, '2807965_4': -0.376220703125, '3198658_9': -0.33203125}, '2869623': {'3035297_0': -0.3623046875, '2521576_7': -0.34619140625, '3701232_27': -0.337646484375}, '2885400': {'2213996_9': -0.326416015625, '2041121_2': -0.33935546875, '2885400_21': -0.3330078125}, '2892396': {'4239545_1': -0.388916015625, '2982923_6': -0.36474609375, '2467380_4': -0.395751953125}, '2895152': {'2895152_6': -0.360107421875, '3383204_0': -0.37060546875, '4208410_16': -0.341552734375}, '2901526': {'2901526_1': -0.34033203125, '561376_7': -0.343017578125, '1363132_2': -0.346435546875}, '2920776': {'2920776_2': -0.384765625, '2317442_1': -0.3583984375, '3799081_6': -0.349609375}, '3011939': {'3161977_6': -0.3974609375, '3022406_4': -0.392333984375, '999983_10': -0.364990234375}, '3026569': {'256438_4': -0.330322265625, '4273030_1': -0.33056640625, '3584331_0': -0.35400390625}, '3033488': {'1425044_1': -0.352294921875, '1957893_2': -0.359130859375, '1023008_9': -0.388427734375}, '3045504': {'582850_8': -0.3583984375, '2934726_0': -0.36181640625, '3081081_2': -0.349853515625}, '3059341': {'3029507_1': -0.34326171875, '816152_1': -0.35546875, '2114181_9': -0.400634765625}, '3061322': {'3136314_0': -0.32958984375, '3092255_2': -0.3466796875, '1535471_0': -0.345947265625}, '3062728': {'2915510_24': -0.38134765625, '1366669_3': -0.382080078125, '2704730_1': -0.376708984375}, '3068149': {'891530_0': -0.3828125, '3068149_16': -0.377685546875, '1401741_2': -0.369140625}, '3080874': {'3080874_7': -0.374267578125, '1530206_5': -0.345458984375, '1286972_5': -0.35693359375}, '3083178': {'4190716_3': -0.367431640625, '590885_1': -0.3525390625, '4276373_0': -0.3388671875}, '3085220': {'3085220_14': -0.34130859375, '680065_4': -0.348388671875, '3085220_12': -0.3408203125}, '3114401': {'3988571_0': -0.3857421875, '907762_10': -0.378173828125, '658351_3': -0.353271484375}, '3133147': {'1660104_0': -0.3447265625, '2418572_33': -0.3544921875, '1206280_5': -0.3564453125}, '3159749': {'3159749_1': -0.378173828125, '2846163_0': -0.363525390625, '296353_5': -0.35400390625}, '3177139': {'3177139_12': -0.325927734375, '3177139_13': -0.35888671875, '1885554_8': -0.373779296875}, '3201838': {'772195_9': -0.345458984375, '1950869_3': -0.337646484375, '4137320_1': -0.363525390625}, '3210818': {'3210818_10': -0.358642578125, '2114433_1': -0.349609375, '4374055_1': -0.356689453125}, '3218142': {'1579560_4': -0.353759765625, '1964326_0': -0.348876953125, '3218142_10': -0.3330078125}, '3231140': {'1858234_1': -0.36181640625, '3231140_1': -0.34814453125, '1858234_0': -0.335205078125}, '3255435': {'2124189_2': -0.373779296875, '748295_2': -0.363037109375, '1440570_1': -0.363037109375}, '3290417': {'1519703_0': -0.354736328125, '1519703_19': -0.352783203125, '1820526_5': -0.34912109375}, '3321549': {'946149_0': -0.33837890625, '3185808_0': -0.36767578125, '1314428_1': -0.340087890625}, '3340682': {'3829088_8': -0.368896484375, '1415295_7': -0.319091796875, '3818972_14': -0.363037109375}, '3341891': {'923748_9': -0.318359375, '3981694_2': -0.346435546875, '3341891_1': -0.361083984375}, '3344119': {'3344119_6': -0.3486328125, '3335505_1': -0.385009765625, '4078465_4': -0.37109375}, '3366613': {'3366613_5': -0.3466796875, '218380_2': -0.353515625, '3366613_3': -0.3515625}, '3431441': {'2112221_0': -0.364990234375, '4065569_2': -0.343505859375, '1677500_1': -0.35546875}, '3443765': {'3443765_17': -0.3916015625, '766696_1': -0.362548828125, '1582143_16': -0.376220703125}, '3444497': {'3114557_11': -0.33935546875, '2904186_1': -0.341552734375, '823423_4': -0.338134765625}, '3465597': {'2982412_2': -0.317138671875, '4434596_7': -0.324462890625, '2598716_5': -0.33154296875}, '3527367': {'19718_7': -0.376220703125, '2809444_0': -0.382080078125, '2212679_15': -0.33642578125}, '3536350': {'2203596_5': -0.330810546875, '3740031_2': -0.34228515625, '1919090_0': -0.350830078125}, '3564298': {'3531500_9': -0.37060546875, '1708683_7': -0.36767578125, '2787424_5': -0.356689453125}, '3573609': {'1409254_0': -0.333740234375, '3573609_1': -0.320068359375, '1309764_3': -0.309326171875}, '3575718': {'3575718_0': -0.352294921875, '3575718_6': -0.36376953125, '2250682_0': -0.368408203125}, '3598485': {'1364603_6': -0.35302734375, '1477205_5': -0.373779296875, '2579506_15': -0.387939453125}, '3631491': {'3631491_8': -0.351318359375, '2652261_4': -0.366943359375, '874284_0': -0.3515625}, '3703530': {'2300625_1': -0.355224609375, '4128033_0': -0.338623046875, '3331393_11': -0.35546875}, '3751886': {'3751886_13': -0.3427734375, '3292485_1': -0.376220703125, '3614936_2': -0.365234375}, '3751940': {'3751940_9': -0.317626953125, '647317_1': -0.343505859375, '2519245_26': -0.361083984375}, '3769909': {'4289885_3': -0.364013671875, '3038685_5': -0.3486328125, '558582_3': -0.375244140625}, '3819566': {'1526641_4': -0.3505859375, '2770067_5': -0.345947265625, '1983610_8': -0.329345703125}, '3829664': {'1786203_9': -0.359130859375, '3829664_22': -0.333984375, '1954103_2': -0.334716796875}, '3900539': {'2859408_0': -0.33984375, '4414525_19': -0.400390625, '3922158_1': -0.333251953125}, '3917891': {'3917891_6': -0.364501953125, '3917891_2': -0.355712890625, '3917891_8': -0.3408203125}, '3922248': {'449198_1': -0.3408203125, '3922248_7': -0.3564453125, '866523_0': -0.364990234375}, '3963608': {'2869827_5': -0.3583984375, '1045758_5': -0.3642578125, '3685309_6': -0.35693359375}, '3977930': {'2793907_22': -0.3740234375, '4436350_8': -0.386474609375, '3845815_2': -0.33349609375}, '3991584': {'2017080_5': -0.338134765625, '4072120_3': -0.32177734375, '4410867_0': -0.331298828125}, '4000671': {'397263_2': -0.34130859375, '3661994_7': -0.297119140625, '413932_4': -0.305419921875}, '4048305': {'4048305_1': -0.364501953125, '4048305_4': -0.363525390625, '4048305_3': -0.38916015625}, '4050447': {'1808671_37': -0.376220703125, '3771527_5': -0.364990234375, '1446860_33': -0.339599609375}, '4097849': {'504592_0': -0.378662109375, '1754372_10': -0.354736328125, '576479_0': -0.357666015625}, '4102013': {'1988909_0': -0.36962890625, '3490783_4': -0.34375, '1113258_4': -0.376708984375}, '4102868': {'4102868_1': -0.3720703125, '3089696_5': -0.347900390625, '2880263_1': -0.359619140625}, '4105488': {'4329633_1': -0.33642578125, '2850653_0': -0.355224609375, '2850653_1': -0.3486328125}, '4160245': {'3761343_6': -0.34033203125, '3761343_2': -0.3486328125, '2135856_1': -0.3359375}, '4186521': {'743467_4': -0.37646484375, '2693196_10': -0.348876953125, '2361410_0': -0.3662109375}, '4217473': {'2601303_2': -0.352294921875, '4276373_3': -0.35400390625, '978958_0': -0.362548828125}, '4235520': {'1830499_9': -0.310302734375, '4235520_0': -0.330810546875, '2144348_1': -0.297119140625}, '4282000': {'743628_4': -0.3798828125, '3650383_3': -0.356689453125, '3301013_3': -0.392333984375}, '4309174': {'4391925_10': -0.35205078125, '1975583_7': -0.341796875, '4309174_10': -0.29541015625}, '4348281': {'4348281_9': -0.33349609375, '4348281_3': -0.354248046875, '4348281_12': -0.34423828125}, '4409259': {'3257182_0': -0.355712890625, '4409259_3': -0.335205078125, '260305_5': -0.37451171875}, '4440341': {'4440341_2': -0.30419921875, '4440341_19': -0.35205078125, '1972463_28': -0.353759765625}, '4454835': {'692440_15': -0.314453125, '4159451_17': -0.3544921875, '3634628_21': -0.33251953125}, '4458585': {'3304_1': -0.34033203125, '2167806_1': -0.331298828125, '1326737_4': -0.370361328125}, '4480092': {'3322859_1': -0.357666015625, '952627_3': -0.327880859375, '1947254_15': -0.34619140625}}\n"
          ],
          "name": "stdout"
        }
      ]
    },
    {
      "cell_type": "markdown",
      "metadata": {
        "id": "T3TEe9DtLWjb"
      },
      "source": [
        "### Implementing a new Reranker module\n",
        "##### (Figure 7 in the paper)\n"
      ]
    },
    {
      "cell_type": "code",
      "metadata": {
        "id": "F9gMUiTtJeXy"
      },
      "source": [
        "from profane import ConfigOption, Dependency\n",
        "import torch\n",
        "from capreolus.reranker import Reranker\n",
        "from capreolus.reranker.common import create_emb_layer, SimilarityMatrix\n",
        "\n",
        "@Reranker.register\n",
        "class NewModel(Reranker):\n",
        "    module_name = \"newmodel\"\n",
        "    config_spec = [\n",
        "                   ConfigOption(\"finetune\", False, \"Train the embedding layer?\")\n",
        "    ]\n",
        "    dependencies = [\n",
        "                    Dependency(\"extractor\", module=\"extractor\", name=\"embedtext\"),\n",
        "                    Dependency(key=\"trainer\", module=\"trainer\", name=\"pytorch\")\n",
        "    ]\n",
        "\n",
        "    def build_model(self):\n",
        "        self.model = NewModel_Class(self.extractor, self.config)\n",
        "        return self.model\n",
        "\n",
        "    def score(self, d):\n",
        "        return [\n",
        "                self.model(d[\"posdoc\"], d[\"query\"]).view(-1),\n",
        "                self.model(d[\"negdoc\"], d[\"query\"]).view(-1)\n",
        "        ]\n",
        "    \n",
        "    def test(self, d):\n",
        "        return self.model(d[\"posdoc\"], d[\"query\"]).view(-1)\n",
        "\n",
        "class NewModel_Class(torch.nn.Module):\n",
        "    def __init__(self, extractor, config):\n",
        "        super(NewModel_Class, self).__init__()\n",
        "        self.embedding = create_emb_layer(extractor.embeddings, non_trainable=config[\"finetune\"])\n",
        "        self.simmat = SimilarityMatrix(padding=extractor.pad)\n",
        "        self.linear = torch.nn.Linear(extractor.config[\"maxdoclen\"], 1)\n",
        "\n",
        "    def forward(self, docidxs, queryidxs):\n",
        "        doc = self.embedding(docidxs)\n",
        "        query = self.embedding(queryidxs)\n",
        "        \n",
        "        # has shape (batch, query_len, doc_len)\n",
        "        similarity_matrix = self.simmat(query, doc, queryidxs, docidxs)\n",
        "\n",
        "        # The input to the linear layer is the similarity score between every term in the query and the first term in the doc. Weird, but let's see what happens.\n",
        "        return self.linear(similarity_matrix[:, :, 0])\n",
        "\n"
      ],
      "execution_count": null,
      "outputs": []
    },
    {
      "cell_type": "code",
      "metadata": {
        "id": "IPvI6OHGL0ZG",
        "outputId": "32d926c0-c88a-45f8-df9a-f953d8c4a4af",
        "colab": {
          "base_uri": "https://localhost:8080/",
          "height": 232
        }
      },
      "source": [
        "# Now that we have defined a new reranker and registered it, let's actually use it\n",
        "\n",
        "task = RerankTask({\n",
        "    \"reranker\": {\n",
        "        \"name\": \"newmodel\",\n",
        "        \"finetune\": True,\n",
        "        \"extractor\": {\n",
        "            \"usecache\": True\n",
        "        },\n",
        "        \"trainer\": {\n",
        "            \"niters\": 5,\n",
        "            \"validatefreq\": 5\n",
        "        },\n",
        "    },\n",
        "    \"benchmark\": {\n",
        "        \"name\": \"antique\"\n",
        "    },\n",
        "})\n",
        "\n",
        "# Attention - the 'run' variable comes from a previous cell\n",
        "predictions = task.train()\n",
        "task.evaluate()"
      ],
      "execution_count": null,
      "outputs": [
        {
          "output_type": "error",
          "ename": "NameError",
          "evalue": "ignored",
          "traceback": [
            "\u001b[0;31m---------------------------------------------------------------------------\u001b[0m",
            "\u001b[0;31mNameError\u001b[0m                                 Traceback (most recent call last)",
            "\u001b[0;32m<ipython-input-1-b1c8b7827f25>\u001b[0m in \u001b[0;36m<module>\u001b[0;34m()\u001b[0m\n\u001b[1;32m      1\u001b[0m \u001b[0;31m# Now that we have defined a new reranker and registered it, let's actually use it\u001b[0m\u001b[0;34m\u001b[0m\u001b[0;34m\u001b[0m\u001b[0;34m\u001b[0m\u001b[0m\n\u001b[1;32m      2\u001b[0m \u001b[0;34m\u001b[0m\u001b[0m\n\u001b[0;32m----> 3\u001b[0;31m task = RerankTask({\n\u001b[0m\u001b[1;32m      4\u001b[0m     \"reranker\": {\n\u001b[1;32m      5\u001b[0m         \u001b[0;34m\"name\"\u001b[0m\u001b[0;34m:\u001b[0m \u001b[0;34m\"newmodel\"\u001b[0m\u001b[0;34m,\u001b[0m\u001b[0;34m\u001b[0m\u001b[0;34m\u001b[0m\u001b[0m\n",
            "\u001b[0;31mNameError\u001b[0m: name 'RerankTask' is not defined"
          ]
        }
      ]
    },
    {
      "cell_type": "code",
      "metadata": {
        "id": "3zSJOQ6rMao1"
      },
      "source": [
        ""
      ],
      "execution_count": null,
      "outputs": []
    }
  ]
}